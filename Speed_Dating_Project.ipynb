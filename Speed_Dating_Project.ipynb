{
 "cells": [
  {
   "cell_type": "markdown",
   "metadata": {},
   "source": [
    "# Speed Dating Social Experimet Data Analysis\n",
    "**Data**: https://www.kaggle.com/annavictoria/speed-dating-experiment  \n",
    "**Experiment**:  Subjects are ivited to participate in a sessions (waves) of experimental speed dating events. If they accept to participate, a 3 phase procedure is launched. \n",
    ">> **Registration Phase**: subjects are asked to supply data related to demographics, dating habits, lifestyle information, and attributes evaluation questionnaire  \n",
    "**Event Phase**: dates are predefined between different genders. After each date (4 mn date) during the event, the subject is asked to fill in a score card where they are asked to evaluate their partners given 6 attributes. Finally, subjects should decide whether they would like a seco,d date with their partners or not.  \n",
    "**Post Event Phase**: Subjects are asked to fill in another questionnaire in order to receive their matches\n",
    "\n",
    "**Main Question**: what it takes to improve the chance to get an approval from the partners"
   ]
  },
  {
   "cell_type": "markdown",
   "metadata": {},
   "source": [
    "📝 **Note**  \n",
    "Some of the parts which follow in this analysis have been inspired by the analysis done by James Hwang, Lucas Cadalzo and coded in **R language**:     \n",
    "    https://www.kaggle.com/jph84562/the-ugly-truth-of-people-decisions-in-speed-dating/script"
   ]
  },
  {
   "cell_type": "code",
   "execution_count": 1,
   "metadata": {},
   "outputs": [],
   "source": [
    "# Importing useful libraries\n",
    "import pandas as pd\n",
    "import numpy as np\n",
    "import seaborn as sns\n",
    "import matplotlib.pyplot as plt\n",
    "%matplotlib inline\n",
    "from math import pi\n",
    "import matplotlib.ticker as tick\n",
    "\n",
    "# view all possible rows and columns\n",
    "pd.options.display.max_rows = 999\n",
    "pd.options.display.max_columns = 999\n",
    "\n",
    "import warnings\n",
    "warnings.filterwarnings('ignore')"
   ]
  },
  {
   "cell_type": "markdown",
   "metadata": {},
   "source": [
    "# Exploring Data"
   ]
  },
  {
   "cell_type": "code",
   "execution_count": 2,
   "metadata": {},
   "outputs": [],
   "source": [
    "# read Data\n",
    "dataset = pd.read_csv(\"Speed_Dating_Data.csv\", encoding= 'unicode_escape')"
   ]
  },
  {
   "cell_type": "code",
   "execution_count": 3,
   "metadata": {},
   "outputs": [
    {
     "data": {
      "text/plain": [
       "(8378, 195)"
      ]
     },
     "execution_count": 3,
     "metadata": {},
     "output_type": "execute_result"
    }
   ],
   "source": [
    "dataset.shape"
   ]
  },
  {
   "cell_type": "markdown",
   "metadata": {},
   "source": [
    "# Structuring and cleaning Data"
   ]
  },
  {
   "cell_type": "code",
   "execution_count": 4,
   "metadata": {},
   "outputs": [
    {
     "data": {
      "text/plain": [
       "(8378, 184)"
      ]
     },
     "execution_count": 4,
     "metadata": {},
     "output_type": "execute_result"
    }
   ],
   "source": [
    "# Remove the variables that will not be included in the analysis (redundant vars and undergraduate related vars)\n",
    "#id, idg, condtn, round, position, positin1, order, partner, tuition, undergra, mn_sat\n",
    "col_to_rem = ['id', 'idg', 'condtn', 'round', 'position', 'positin1', 'order', 'partner', 'tuition', 'undergra', 'mn_sat']\n",
    "dataset.drop(col_to_rem, inplace = True, axis = 1)\n",
    "dataset.shape"
   ]
  },
  {
   "cell_type": "code",
   "execution_count": 5,
   "metadata": {},
   "outputs": [
    {
     "data": {
      "text/plain": [
       "Male      4194\n",
       "Female    4184\n",
       "Name: gender_str, dtype: int64"
      ]
     },
     "execution_count": 5,
     "metadata": {},
     "output_type": "execute_result"
    }
   ],
   "source": [
    "# add a new column 'gender_str' in order to be used as categorical variable in the analysis\n",
    "dataset[\"gender_str\"] = np.where(dataset[\"gender\"]==1,\"Male\",\"Female\")\n",
    "dataset[\"gender_str\"].value_counts()"
   ]
  },
  {
   "cell_type": "code",
   "execution_count": 6,
   "metadata": {},
   "outputs": [],
   "source": [
    "dataset[\"gender_str\"] = dataset[\"gender_str\"].astype(str)"
   ]
  },
  {
   "cell_type": "code",
   "execution_count": 7,
   "metadata": {},
   "outputs": [
    {
     "data": {
      "text/plain": [
       "pid           10\n",
       "int_corr     158\n",
       "age_o        104\n",
       "race_o        73\n",
       "pf_o_att      89\n",
       "pf_o_sin      89\n",
       "pf_o_int      89\n",
       "pf_o_fun      98\n",
       "pf_o_amb     107\n",
       "pf_o_sha     129\n",
       "attr_o       212\n",
       "sinc_o       287\n",
       "intel_o      306\n",
       "fun_o        360\n",
       "amb_o        722\n",
       "shar_o      1076\n",
       "like_o       250\n",
       "prob_o       318\n",
       "met_o        385\n",
       "age           95\n",
       "field         63\n",
       "field_cd      82\n",
       "race          63\n",
       "imprace       79\n",
       "imprelig      79\n",
       "from          79\n",
       "zipcode     1064\n",
       "income      4099\n",
       "goal          79\n",
       "date          97\n",
       "go_out        79\n",
       "career        89\n",
       "career_c     138\n",
       "sports        79\n",
       "tvsports      79\n",
       "exercise      79\n",
       "dining        79\n",
       "museums       79\n",
       "art           79\n",
       "hiking        79\n",
       "gaming        79\n",
       "clubbing      79\n",
       "reading       79\n",
       "tv            79\n",
       "theater       79\n",
       "movies        79\n",
       "concerts      79\n",
       "music         79\n",
       "shopping      79\n",
       "yoga          79\n",
       "exphappy     101\n",
       "expnum      6578\n",
       "attr1_1       79\n",
       "sinc1_1       79\n",
       "intel1_1      79\n",
       "fun1_1        89\n",
       "amb1_1        99\n",
       "shar1_1      121\n",
       "attr4_1     1889\n",
       "sinc4_1     1889\n",
       "intel4_1    1889\n",
       "fun4_1      1889\n",
       "amb4_1      1889\n",
       "shar4_1     1911\n",
       "attr2_1       79\n",
       "sinc2_1       79\n",
       "intel2_1      79\n",
       "fun2_1        79\n",
       "amb2_1        89\n",
       "shar2_1       89\n",
       "attr3_1      105\n",
       "sinc3_1      105\n",
       "fun3_1       105\n",
       "intel3_1     105\n",
       "amb3_1       105\n",
       "attr5_1     3472\n",
       "sinc5_1     3472\n",
       "intel5_1    3472\n",
       "fun5_1      3472\n",
       "amb5_1      3472\n",
       "attr         202\n",
       "sinc         277\n",
       "intel        296\n",
       "fun          350\n",
       "amb          712\n",
       "shar        1067\n",
       "like         240\n",
       "prob         309\n",
       "met          375\n",
       "match_es    1173\n",
       "attr1_s     4282\n",
       "sinc1_s     4282\n",
       "intel1_s    4282\n",
       "fun1_s      4282\n",
       "amb1_s      4282\n",
       "shar1_s     4282\n",
       "attr3_s     4378\n",
       "sinc3_s     4378\n",
       "intel3_s    4378\n",
       "fun3_s      4378\n",
       "amb3_s      4378\n",
       "satis_2      915\n",
       "length       915\n",
       "numdat_2     945\n",
       "attr7_2     6394\n",
       "sinc7_2     6423\n",
       "intel7_2    6394\n",
       "fun7_2      6394\n",
       "amb7_2      6423\n",
       "shar7_2     6404\n",
       "attr1_2      933\n",
       "sinc1_2      915\n",
       "intel1_2     915\n",
       "fun1_2       915\n",
       "amb1_2       915\n",
       "shar1_2      915\n",
       "attr4_2     2603\n",
       "sinc4_2     2603\n",
       "intel4_2    2603\n",
       "fun4_2      2603\n",
       "amb4_2      2603\n",
       "shar4_2     2603\n",
       "attr2_2     2603\n",
       "sinc2_2     2603\n",
       "intel2_2    2603\n",
       "fun2_2      2603\n",
       "amb2_2      2603\n",
       "shar2_2     2603\n",
       "attr3_2      915\n",
       "sinc3_2      915\n",
       "intel3_2     915\n",
       "fun3_2       915\n",
       "amb3_2       915\n",
       "attr5_2     4001\n",
       "sinc5_2     4001\n",
       "intel5_2    4001\n",
       "fun5_2      4001\n",
       "amb5_2      4001\n",
       "you_call    4404\n",
       "them_cal    4404\n",
       "date_3      4404\n",
       "numdat_3    6882\n",
       "num_in_3    7710\n",
       "attr1_3     4404\n",
       "sinc1_3     4404\n",
       "intel1_3    4404\n",
       "fun1_3      4404\n",
       "amb1_3      4404\n",
       "shar1_3     4404\n",
       "attr7_3     6362\n",
       "sinc7_3     6362\n",
       "intel7_3    6362\n",
       "fun7_3      6362\n",
       "amb7_3      6362\n",
       "shar7_3     6362\n",
       "attr4_3     5419\n",
       "sinc4_3     5419\n",
       "intel4_3    5419\n",
       "fun4_3      5419\n",
       "amb4_3      5419\n",
       "shar4_3     5419\n",
       "attr2_3     5419\n",
       "sinc2_3     5419\n",
       "intel2_3    5419\n",
       "fun2_3      5419\n",
       "amb2_3      5419\n",
       "shar2_3     6362\n",
       "attr3_3     4404\n",
       "sinc3_3     4404\n",
       "intel3_3    4404\n",
       "fun3_3      4404\n",
       "amb3_3      4404\n",
       "attr5_3     6362\n",
       "sinc5_3     6362\n",
       "intel5_3    6362\n",
       "fun5_3      6362\n",
       "amb5_3      6362\n",
       "dtype: int64"
      ]
     },
     "execution_count": 7,
     "metadata": {},
     "output_type": "execute_result"
    }
   ],
   "source": [
    "# check NAN values\n",
    "s = dataset.isna().sum()\n",
    "s[s>0]"
   ]
  },
  {
   "cell_type": "markdown",
   "metadata": {},
   "source": [
    "# Data Analysis\n",
    "## Age Distribution (in which category participants' age fall into)"
   ]
  },
  {
   "cell_type": "code",
   "execution_count": 8,
   "metadata": {},
   "outputs": [
    {
     "data": {
      "text/plain": [
       "95"
      ]
     },
     "execution_count": 8,
     "metadata": {},
     "output_type": "execute_result"
    }
   ],
   "source": [
    "# check if there are missing values\n",
    "dataset.isna().sum()['age']"
   ]
  },
  {
   "cell_type": "code",
   "execution_count": 9,
   "metadata": {},
   "outputs": [
    {
     "data": {
      "text/plain": [
       "27.0    1059\n",
       "23.0     894\n",
       "26.0     869\n",
       "24.0     863\n",
       "25.0     837\n",
       "28.0     746\n",
       "22.0     655\n",
       "29.0     589\n",
       "30.0     574\n",
       "21.0     291\n",
       "32.0     210\n",
       "33.0     161\n",
       "34.0     152\n",
       "31.0     125\n",
       "35.0      60\n",
       "20.0      55\n",
       "36.0      45\n",
       "19.0      20\n",
       "42.0      20\n",
       "38.0      19\n",
       "39.0      18\n",
       "18.0      10\n",
       "55.0       6\n",
       "37.0       5\n",
       "Name: age, dtype: int64"
      ]
     },
     "execution_count": 9,
     "metadata": {},
     "output_type": "execute_result"
    }
   ],
   "source": [
    "# most common age of participants\n",
    "dataset[\"age\"].value_counts()"
   ]
  },
  {
   "cell_type": "code",
   "execution_count": 10,
   "metadata": {},
   "outputs": [
    {
     "data": {
      "text/plain": [
       "[18.0,\n",
       " 19.0,\n",
       " 20.0,\n",
       " 21.0,\n",
       " 22.0,\n",
       " 23.0,\n",
       " 24.0,\n",
       " 25.0,\n",
       " 26.0,\n",
       " 27.0,\n",
       " 28.0,\n",
       " 29.0,\n",
       " 30.0,\n",
       " nan,\n",
       " 31.0,\n",
       " 32.0,\n",
       " 33.0,\n",
       " 34.0,\n",
       " 35.0,\n",
       " 36.0,\n",
       " 37.0,\n",
       " 38.0,\n",
       " 39.0,\n",
       " 42.0,\n",
       " 55.0]"
      ]
     },
     "execution_count": 10,
     "metadata": {},
     "output_type": "execute_result"
    }
   ],
   "source": [
    "l= dataset['age'].unique().tolist()\n",
    "l.sort()\n",
    "l"
   ]
  },
  {
   "cell_type": "code",
   "execution_count": 11,
   "metadata": {},
   "outputs": [],
   "source": [
    "# assign all NaN values in the age column to the average age\n",
    "dataset[\"age\"] = dataset[\"age\"].fillna(round(dataset[\"age\"].mean(),1))\n",
    "dataset[\"age\"] = dataset[\"age\"].astype(int)"
   ]
  },
  {
   "cell_type": "code",
   "execution_count": 12,
   "metadata": {},
   "outputs": [
    {
     "data": {
      "text/plain": [
       "0"
      ]
     },
     "execution_count": 12,
     "metadata": {},
     "output_type": "execute_result"
    }
   ],
   "source": [
    "dataset.isna().sum()['age']"
   ]
  },
  {
   "cell_type": "code",
   "execution_count": 13,
   "metadata": {},
   "outputs": [
    {
     "data": {
      "text/plain": [
       "[Text(0.5, 0, 'Age'),\n",
       " Text(0, 0.5, 'Number of Subjects'),\n",
       " Text(0.5, 1.0, 'Age Distribution')]"
      ]
     },
     "execution_count": 13,
     "metadata": {},
     "output_type": "execute_result"
    },
    {
     "data": {
      "image/png": "[encoded data removed]",
      "text/plain": [
       "<Figure size 720x360 with 1 Axes>"
      ]
     },
     "metadata": {
      "needs_background": "light"
     },
     "output_type": "display_data"
    }
   ],
   "source": [
    "#Age Distribution using Seaborn\n",
    "plt.figure(figsize=(10, 5))\n",
    "sns.set_palette('bright')\n",
    "ax = sns.histplot(dataset['age'], kde=True, binwidth=1, color='r')\n",
    "ax.set(xlabel=\"Age\", ylabel=\"Number of Subjects\", title=\"Age Distribution\")"
   ]
  },
  {
   "cell_type": "code",
   "execution_count": 14,
   "metadata": {},
   "outputs": [
    {
     "data": {
      "image/png": "[encoded data removed]",
      "text/plain": [
       "<Figure size 720x360 with 1 Axes>"
      ]
     },
     "metadata": {
      "needs_background": "light"
     },
     "output_type": "display_data"
    }
   ],
   "source": [
    "#Age Distribution using Matplotlib\n",
    "plt.figure(figsize=(10, 5))\n",
    "plt.title(\"Age Distribution\")\n",
    "plt.xlabel(\"Age\")\n",
    "plt.ylabel(\"Number of Subjects\")\n",
    "bins = bins = np.arange(dataset.age.min(),dataset.age.max()+1, 1)\n",
    "histo = plt.hist(data=dataset, x=\"age\", bins = bins, facecolor = 'r')\n",
    "plt.show()"
   ]
  },
  {
   "cell_type": "code",
   "execution_count": 15,
   "metadata": {},
   "outputs": [
    {
     "data": {
      "image/png": "[encoded data removed]",
      "text/plain": [
       "<Figure size 720x360 with 1 Axes>"
      ]
     },
     "metadata": {
      "needs_background": "light"
     },
     "output_type": "display_data"
    }
   ],
   "source": [
    "# zooming on age of majority of participants\n",
    "bins = np.arange(dataset.age.min(),dataset.age.max()+0.5, 1)\n",
    "plt.figure(figsize=(10, 5))\n",
    "plt.hist(data=dataset, x=\"age\", bins = bins, color = 'r')\n",
    "plt.title(\"Age Distribution\")\n",
    "plt.xlabel(\"Age\")\n",
    "plt.xlim(18, 37)\n",
    "plt.ylabel(\"Number of Subjects\")\n",
    "plt.show()"
   ]
  },
  {
   "cell_type": "code",
   "execution_count": 16,
   "metadata": {},
   "outputs": [
    {
     "data": {
      "text/plain": [
       "22-31    81.9\n",
       "18-21    12.2\n",
       "32-55     5.8\n",
       "Name: cut_age, dtype: float64"
      ]
     },
     "execution_count": 16,
     "metadata": {},
     "output_type": "execute_result"
    }
   ],
   "source": [
    "pd.qcut(dataset['age'], q=4)\n",
    "cut_labels = ['18-21', '22-31', '32-55']\n",
    "cut_bins = [18, 22, 32, 55]\n",
    "dataset['cut_age'] = pd.cut(dataset['age'], bins=cut_bins, labels=cut_labels)\n",
    "N = dataset['age'].count()\n",
    "round((dataset['cut_age'].value_counts()/N)*100, 1)"
   ]
  },
  {
   "cell_type": "markdown",
   "metadata": {},
   "source": [
    "🗒 **OBSERVATION**  \n",
    "•\tMost participants were aged 22-31 years (81.9%)  \n",
    "•\tOlder adults are barely interested in speed dating (only 5.8%)  "
   ]
  },
  {
   "cell_type": "code",
   "execution_count": 17,
   "metadata": {},
   "outputs": [
    {
     "data": {
      "text/plain": [
       "count    8378.000000\n",
       "mean       26.354858\n",
       "std         3.546684\n",
       "min        18.000000\n",
       "25%        24.000000\n",
       "50%        26.000000\n",
       "75%        28.000000\n",
       "max        55.000000\n",
       "Name: age, dtype: float64"
      ]
     },
     "execution_count": 17,
     "metadata": {},
     "output_type": "execute_result"
    }
   ],
   "source": [
    "dataset['age'].describe()"
   ]
  },
  {
   "cell_type": "code",
   "execution_count": 18,
   "metadata": {},
   "outputs": [
    {
     "data": {
      "text/plain": [
       "<AxesSubplot:xlabel='age'>"
      ]
     },
     "execution_count": 18,
     "metadata": {},
     "output_type": "execute_result"
    },
    {
     "data": {
      "image/png": "[encoded data removed]",
      "text/plain": [
       "<Figure size 432x288 with 1 Axes>"
      ]
     },
     "metadata": {
      "needs_background": "light"
     },
     "output_type": "display_data"
    }
   ],
   "source": [
    "sns.boxplot(dataset['age'])"
   ]
  },
  {
   "cell_type": "markdown",
   "metadata": {},
   "source": [
    "🗒 **OBSERVATION**   \n",
    "•\tthe box plot confirms the results of the histogram.  \n",
    "•\tThere is no great variability of age among participants  \n",
    "•\tSeveral outliers are observed beyond 34 years old, which confirms the fact that older adults are not really interested in speed dating"
   ]
  },
  {
   "cell_type": "code",
   "execution_count": 19,
   "metadata": {},
   "outputs": [
    {
     "data": {
      "image/png": "[encoded data removed]",
      "text/plain": [
       "<Figure size 720x360 with 1 Axes>"
      ]
     },
     "metadata": {
      "needs_background": "light"
     },
     "output_type": "display_data"
    }
   ],
   "source": [
    "#Age Distribution by gender\n",
    "plt.figure(figsize=(10, 5))\n",
    "plt.title(\"Age Distribution by Gender\")\n",
    "plt.xlabel(\"Age\")\n",
    "#plt.xlim(32, 38)\n",
    "plt.ylabel(\"Number of Subjects\")\n",
    "sns.histplot(data=dataset, x='age', hue='gender_str', binwidth=1, kde=False, element='poly')\n",
    "legend = plt.legend(['Male', 'Female'])\n",
    "legend.set_title('Gender')"
   ]
  },
  {
   "cell_type": "markdown",
   "metadata": {},
   "source": [
    "🗒 **OBSERVATION**  \n",
    "In young adulthood, a higher proportion of female participants were aged 20-27 than males. This pattern was repeated for middle age females (34–37 years). However, a higher proportion of male participants were aged (28-33 years) compared to females."
   ]
  },
  {
   "cell_type": "markdown",
   "metadata": {},
   "source": [
    "### Goal Distribution  (What is the primary goal of subjects in participating in Speed Dating)"
   ]
  },
  {
   "cell_type": "code",
   "execution_count": 20,
   "metadata": {},
   "outputs": [
    {
     "data": {
      "text/plain": [
       "79"
      ]
     },
     "execution_count": 20,
     "metadata": {},
     "output_type": "execute_result"
    }
   ],
   "source": [
    "#checking for missing values\n",
    "# we will not remove missing data for this variable, we will just consider it as no data\n",
    "dataset.isna().sum()['goal']"
   ]
  },
  {
   "cell_type": "code",
   "execution_count": 21,
   "metadata": {},
   "outputs": [
    {
     "data": {
      "text/plain": [
       "array([ 1.,  2.,  3.,  4.,  5.,  6., nan])"
      ]
     },
     "execution_count": 21,
     "metadata": {},
     "output_type": "execute_result"
    }
   ],
   "source": [
    "# unique values of goal variable\n",
    "np.sort(dataset['goal'].unique())"
   ]
  },
  {
   "cell_type": "code",
   "execution_count": 22,
   "metadata": {},
   "outputs": [
    {
     "data": {
      "text/html": [
       "<svg  width=\"550\" height=\"55\"><rect x=\"0\" y=\"0\" width=\"55\" height=\"55\" style=\"fill:#023eff;stroke-width:2;stroke:rgb(255,255,255)\"/><rect x=\"55\" y=\"0\" width=\"55\" height=\"55\" style=\"fill:#ff7c00;stroke-width:2;stroke:rgb(255,255,255)\"/><rect x=\"110\" y=\"0\" width=\"55\" height=\"55\" style=\"fill:#1ac938;stroke-width:2;stroke:rgb(255,255,255)\"/><rect x=\"165\" y=\"0\" width=\"55\" height=\"55\" style=\"fill:#e8000b;stroke-width:2;stroke:rgb(255,255,255)\"/><rect x=\"220\" y=\"0\" width=\"55\" height=\"55\" style=\"fill:#8b2be2;stroke-width:2;stroke:rgb(255,255,255)\"/><rect x=\"275\" y=\"0\" width=\"55\" height=\"55\" style=\"fill:#9f4800;stroke-width:2;stroke:rgb(255,255,255)\"/><rect x=\"330\" y=\"0\" width=\"55\" height=\"55\" style=\"fill:#f14cc1;stroke-width:2;stroke:rgb(255,255,255)\"/><rect x=\"385\" y=\"0\" width=\"55\" height=\"55\" style=\"fill:#a3a3a3;stroke-width:2;stroke:rgb(255,255,255)\"/><rect x=\"440\" y=\"0\" width=\"55\" height=\"55\" style=\"fill:#ffc400;stroke-width:2;stroke:rgb(255,255,255)\"/><rect x=\"495\" y=\"0\" width=\"55\" height=\"55\" style=\"fill:#00d7ff;stroke-width:2;stroke:rgb(255,255,255)\"/></svg>"
      ],
      "text/plain": [
       "[(0.00784313725490196, 0.24313725490196078, 1.0),\n",
       " (1.0, 0.48627450980392156, 0.0),\n",
       " (0.10196078431372549, 0.788235294117647, 0.2196078431372549),\n",
       " (0.9098039215686274, 0.0, 0.043137254901960784),\n",
       " (0.5450980392156862, 0.16862745098039217, 0.8862745098039215),\n",
       " (0.6235294117647059, 0.2823529411764706, 0.0),\n",
       " (0.9450980392156862, 0.2980392156862745, 0.7568627450980392),\n",
       " (0.6392156862745098, 0.6392156862745098, 0.6392156862745098),\n",
       " (1.0, 0.7686274509803922, 0.0),\n",
       " (0.0, 0.8431372549019608, 1.0)]"
      ]
     },
     "execution_count": 22,
     "metadata": {},
     "output_type": "execute_result"
    }
   ],
   "source": [
    "sns.color_palette()"
   ]
  },
  {
   "cell_type": "code",
   "execution_count": 23,
   "metadata": {},
   "outputs": [
    {
     "data": {
      "text/plain": [
       "1.0    3426\n",
       "2.0    3012\n",
       "3.0     631\n",
       "5.0     510\n",
       "6.0     419\n",
       "4.0     301\n",
       "Name: goal, dtype: int64"
      ]
     },
     "execution_count": 23,
     "metadata": {},
     "output_type": "execute_result"
    }
   ],
   "source": [
    "dataset['goal'].value_counts()"
   ]
  },
  {
   "cell_type": "code",
   "execution_count": 24,
   "metadata": {},
   "outputs": [],
   "source": [
    "# change the goal variables to include string instead of integers while keeping missing data as no data\n",
    "dataset['goal'] = dataset.goal.apply(lambda x: \n",
    "                                     \"fun night out\" if x == 1\n",
    "                                     else \"meet new people\" if x == 2\n",
    "                                     else \"get a date\" if x == 3\n",
    "                                     else \"looking for serious relationship\" if x == 4\n",
    "                                     else \"to say I dit it\" if x == 5\n",
    "                                     else \"other goal\" if x == 6\n",
    "                                     else \"no data\")"
   ]
  },
  {
   "cell_type": "code",
   "execution_count": 25,
   "metadata": {},
   "outputs": [
    {
     "data": {
      "text/plain": [
       "array(['meet new people', 'fun night out', 'other goal', 'get a date',\n",
       "       'looking for serious relationship', 'no data', 'to say I dit it'],\n",
       "      dtype=object)"
      ]
     },
     "execution_count": 25,
     "metadata": {},
     "output_type": "execute_result"
    }
   ],
   "source": [
    "dataset['goal'].unique()"
   ]
  },
  {
   "cell_type": "code",
   "execution_count": 26,
   "metadata": {},
   "outputs": [
    {
     "data": {
      "image/png": "[encoded data removed]",
      "text/plain": [
       "<Figure size 720x360 with 1 Axes>"
      ]
     },
     "metadata": {
      "needs_background": "light"
     },
     "output_type": "display_data"
    }
   ],
   "source": [
    "# barchart of reasons for participating in speed dating events\n",
    "plt.figure(figsize=(10,5))\n",
    "bar_color = sns.color_palette()[0]\n",
    "\n",
    "chart = sns.countplot(data = dataset, x='goal',color = bar_color, order = dataset['goal'].value_counts().index)\n",
    "plt.title(\"Reasons why people go to speed dating events\", fontsize=20)\n",
    "plt.xlabel(\"Goal\")\n",
    "plt.ylabel(\"Number of Subjects\")\n",
    "\n",
    "#as the labels on the axis x are string of important lenght, we should rotate the texts to have clear illustrations\n",
    "chart.set_xticklabels(chart.get_xticklabels(), rotation=45, horizontalalignment='right')\n",
    "\n",
    "# add Number of subjects to each bar\n",
    "for p in chart.patches:\n",
    "    height = p.get_height()\n",
    "    chart.text(p.get_x()+p.get_width()/2.,\n",
    "            height * 1.01,\n",
    "            \"{:,.0f}\".format(height),\n",
    "            ha=\"center\");"
   ]
  },
  {
   "cell_type": "code",
   "execution_count": 27,
   "metadata": {},
   "outputs": [
    {
     "data": {
      "image/png": "[encoded data removed]",
      "text/plain": [
       "<Figure size 720x360 with 2 Axes>"
      ]
     },
     "metadata": {
      "needs_background": "light"
     },
     "output_type": "display_data"
    }
   ],
   "source": [
    "plt.figure(figsize=(10,5))\n",
    "plt.title(\"Reasons why people go to speed dating events\", fontsize=20)\n",
    "plt.xlabel('Goal')\n",
    "plt.ylabel('Frequency [%]')\n",
    "\n",
    "# show the frequencies\n",
    "ax = (dataset.goal.value_counts()/len(dataset)*100).plot(kind=\"bar\")\n",
    "# y axis on the left for the frequency [%]\n",
    "ax.set_yticks(np.arange(0, 110, 10))\n",
    "\n",
    "#as the labels on the axis x are string of important lenght, we should rotate the texts to have clear illustrations\n",
    "chart.set_xticklabels(chart.get_xticklabels(), rotation=45, horizontalalignment='right')\n",
    "\n",
    "# y axis on the right for the number of subjects\n",
    "ax2 = ax.twinx()\n",
    "ax2.set_yticks(np.arange(0, 110, 10)*len(dataset)/100)\n",
    "\n",
    "for p in ax.patches:\n",
    "    ax.annotate('{:.2f}%'.format(p.get_height()), (p.get_x()+0.15, p.get_height()+1), ha=\"center\")\n",
    "\n",
    "    \n",
    "# pie chart"
   ]
  },
  {
   "cell_type": "markdown",
   "metadata": {},
   "source": [
    "🗒 **OBSERVATION**    \n",
    "Most people go to speed dating events to have fun night out (40,89%) or meet new people (35,95%).  \n",
    "Getting a date is actually the primary goal for only 7,53 % of participants."
   ]
  },
  {
   "cell_type": "code",
   "execution_count": 28,
   "metadata": {},
   "outputs": [],
   "source": [
    "# add graph reasons per gender"
   ]
  },
  {
   "cell_type": "markdown",
   "metadata": {},
   "source": [
    "## Attributes that participants look for in their partners"
   ]
  },
  {
   "cell_type": "code",
   "execution_count": 29,
   "metadata": {},
   "outputs": [
    {
     "data": {
      "text/html": [
       "<div>\n",
       "<style scoped>\n",
       "    .dataframe tbody tr th:only-of-type {\n",
       "        vertical-align: middle;\n",
       "    }\n",
       "\n",
       "    .dataframe tbody tr th {\n",
       "        vertical-align: top;\n",
       "    }\n",
       "\n",
       "    .dataframe thead th {\n",
       "        text-align: right;\n",
       "    }\n",
       "</style>\n",
       "<table border=\"1\" class=\"dataframe\">\n",
       "  <thead>\n",
       "    <tr style=\"text-align: right;\">\n",
       "      <th></th>\n",
       "      <th>id</th>\n",
       "      <th>gender</th>\n",
       "      <th>attractive</th>\n",
       "      <th>sincere</th>\n",
       "      <th>intelligent</th>\n",
       "      <th>fun</th>\n",
       "      <th>ambitious</th>\n",
       "      <th>shared_interests</th>\n",
       "    </tr>\n",
       "  </thead>\n",
       "  <tbody>\n",
       "    <tr>\n",
       "      <th>0</th>\n",
       "      <td>1</td>\n",
       "      <td>Female</td>\n",
       "      <td>15.0</td>\n",
       "      <td>20.0</td>\n",
       "      <td>20.0</td>\n",
       "      <td>15.0</td>\n",
       "      <td>15.0</td>\n",
       "      <td>15.0</td>\n",
       "    </tr>\n",
       "    <tr>\n",
       "      <th>10</th>\n",
       "      <td>2</td>\n",
       "      <td>Female</td>\n",
       "      <td>45.0</td>\n",
       "      <td>5.0</td>\n",
       "      <td>25.0</td>\n",
       "      <td>20.0</td>\n",
       "      <td>0.0</td>\n",
       "      <td>5.0</td>\n",
       "    </tr>\n",
       "    <tr>\n",
       "      <th>20</th>\n",
       "      <td>3</td>\n",
       "      <td>Female</td>\n",
       "      <td>35.0</td>\n",
       "      <td>10.0</td>\n",
       "      <td>35.0</td>\n",
       "      <td>10.0</td>\n",
       "      <td>10.0</td>\n",
       "      <td>0.0</td>\n",
       "    </tr>\n",
       "    <tr>\n",
       "      <th>30</th>\n",
       "      <td>4</td>\n",
       "      <td>Female</td>\n",
       "      <td>20.0</td>\n",
       "      <td>20.0</td>\n",
       "      <td>20.0</td>\n",
       "      <td>20.0</td>\n",
       "      <td>10.0</td>\n",
       "      <td>10.0</td>\n",
       "    </tr>\n",
       "    <tr>\n",
       "      <th>40</th>\n",
       "      <td>5</td>\n",
       "      <td>Female</td>\n",
       "      <td>20.0</td>\n",
       "      <td>5.0</td>\n",
       "      <td>25.0</td>\n",
       "      <td>25.0</td>\n",
       "      <td>10.0</td>\n",
       "      <td>15.0</td>\n",
       "    </tr>\n",
       "  </tbody>\n",
       "</table>\n",
       "</div>"
      ],
      "text/plain": [
       "    id  gender  attractive  sincere  intelligent   fun  ambitious  \\\n",
       "0    1  Female        15.0     20.0         20.0  15.0       15.0   \n",
       "10   2  Female        45.0      5.0         25.0  20.0        0.0   \n",
       "20   3  Female        35.0     10.0         35.0  10.0       10.0   \n",
       "30   4  Female        20.0     20.0         20.0  20.0       10.0   \n",
       "40   5  Female        20.0      5.0         25.0  25.0       10.0   \n",
       "\n",
       "    shared_interests  \n",
       "0               15.0  \n",
       "10               5.0  \n",
       "20               0.0  \n",
       "30              10.0  \n",
       "40              15.0  "
      ]
     },
     "execution_count": 29,
     "metadata": {},
     "output_type": "execute_result"
    }
   ],
   "source": [
    "# extract attributes related data and change the columns lables, all with the subject identifer and his gender\n",
    "attributes = dataset[['iid','gender_str','attr1_1', 'sinc1_1','intel1_1','fun1_1','amb1_1','shar1_1']]\n",
    "attributes.columns = ['id', 'gender','attractive', 'sincere','intelligent','fun','ambitious','shared_interests'] \n",
    "\n",
    "# drop redundant data\n",
    "attributes.drop_duplicates(subset=['id']).head()"
   ]
  },
  {
   "cell_type": "code",
   "execution_count": 30,
   "metadata": {},
   "outputs": [
    {
     "data": {
      "text/plain": [
       "0.00        79\n",
       "90.00       65\n",
       "95.00       22\n",
       "99.98       26\n",
       "99.99       16\n",
       "99.99       82\n",
       "99.99      199\n",
       "100.00      56\n",
       "100.00    7142\n",
       "100.00     110\n",
       "100.01     127\n",
       "100.01     239\n",
       "100.02      56\n",
       "100.02      92\n",
       "101.00      10\n",
       "110.00      22\n",
       "120.00      25\n",
       "148.00      10\n",
       "Name: sum, dtype: int64"
      ]
     },
     "execution_count": 30,
     "metadata": {},
     "output_type": "execute_result"
    }
   ],
   "source": [
    "# add a new column to sum up the rates of the different attributes\n",
    "attributes['sum']= attributes.iloc[:,2:].sum(axis=1)\n",
    "attributes['sum'].value_counts().sort_index()"
   ]
  },
  {
   "cell_type": "markdown",
   "metadata": {},
   "source": [
    "📝 **Note**  \n",
    "•\tthe sum 0 means that all entries are missing so we drop those observations  \n",
    "•\tthe data is not normalised as different scales are used as mentioned in the data description, hence we should normalize the data in order to get significative results"
   ]
  },
  {
   "cell_type": "code",
   "execution_count": 31,
   "metadata": {},
   "outputs": [],
   "source": [
    "# drop rows where all attributes were not rated \n",
    "index = attributes[attributes['sum']==0].index\n",
    "attributes.drop(index=index, inplace=True, errors='raise')"
   ]
  },
  {
   "cell_type": "code",
   "execution_count": 32,
   "metadata": {},
   "outputs": [],
   "source": [
    "## Normalize\n",
    "##all values will be redistributed and curved to fit 100 total points using the rule x_norm = x /sum * 100\n",
    "for col in attributes.columns[2:]:\n",
    "    attributes[col] = round((attributes[col] / attributes['sum'])*100,2)"
   ]
  },
  {
   "cell_type": "code",
   "execution_count": 33,
   "metadata": {},
   "outputs": [
    {
     "data": {
      "text/html": [
       "<div>\n",
       "<style scoped>\n",
       "    .dataframe tbody tr th:only-of-type {\n",
       "        vertical-align: middle;\n",
       "    }\n",
       "\n",
       "    .dataframe tbody tr th {\n",
       "        vertical-align: top;\n",
       "    }\n",
       "\n",
       "    .dataframe thead th {\n",
       "        text-align: right;\n",
       "    }\n",
       "</style>\n",
       "<table border=\"1\" class=\"dataframe\">\n",
       "  <thead>\n",
       "    <tr style=\"text-align: right;\">\n",
       "      <th></th>\n",
       "      <th>id</th>\n",
       "      <th>gender</th>\n",
       "      <th>attractive</th>\n",
       "      <th>sincere</th>\n",
       "      <th>intelligent</th>\n",
       "      <th>fun</th>\n",
       "      <th>ambitious</th>\n",
       "      <th>shared_interests</th>\n",
       "      <th>sum</th>\n",
       "    </tr>\n",
       "  </thead>\n",
       "  <tbody>\n",
       "    <tr>\n",
       "      <th>0</th>\n",
       "      <td>1</td>\n",
       "      <td>Female</td>\n",
       "      <td>15.0</td>\n",
       "      <td>20.0</td>\n",
       "      <td>20.0</td>\n",
       "      <td>15.0</td>\n",
       "      <td>15.0</td>\n",
       "      <td>15.0</td>\n",
       "      <td>100.0</td>\n",
       "    </tr>\n",
       "    <tr>\n",
       "      <th>1</th>\n",
       "      <td>1</td>\n",
       "      <td>Female</td>\n",
       "      <td>15.0</td>\n",
       "      <td>20.0</td>\n",
       "      <td>20.0</td>\n",
       "      <td>15.0</td>\n",
       "      <td>15.0</td>\n",
       "      <td>15.0</td>\n",
       "      <td>100.0</td>\n",
       "    </tr>\n",
       "    <tr>\n",
       "      <th>2</th>\n",
       "      <td>1</td>\n",
       "      <td>Female</td>\n",
       "      <td>15.0</td>\n",
       "      <td>20.0</td>\n",
       "      <td>20.0</td>\n",
       "      <td>15.0</td>\n",
       "      <td>15.0</td>\n",
       "      <td>15.0</td>\n",
       "      <td>100.0</td>\n",
       "    </tr>\n",
       "    <tr>\n",
       "      <th>3</th>\n",
       "      <td>1</td>\n",
       "      <td>Female</td>\n",
       "      <td>15.0</td>\n",
       "      <td>20.0</td>\n",
       "      <td>20.0</td>\n",
       "      <td>15.0</td>\n",
       "      <td>15.0</td>\n",
       "      <td>15.0</td>\n",
       "      <td>100.0</td>\n",
       "    </tr>\n",
       "    <tr>\n",
       "      <th>4</th>\n",
       "      <td>1</td>\n",
       "      <td>Female</td>\n",
       "      <td>15.0</td>\n",
       "      <td>20.0</td>\n",
       "      <td>20.0</td>\n",
       "      <td>15.0</td>\n",
       "      <td>15.0</td>\n",
       "      <td>15.0</td>\n",
       "      <td>100.0</td>\n",
       "    </tr>\n",
       "    <tr>\n",
       "      <th>...</th>\n",
       "      <td>...</td>\n",
       "      <td>...</td>\n",
       "      <td>...</td>\n",
       "      <td>...</td>\n",
       "      <td>...</td>\n",
       "      <td>...</td>\n",
       "      <td>...</td>\n",
       "      <td>...</td>\n",
       "      <td>...</td>\n",
       "    </tr>\n",
       "    <tr>\n",
       "      <th>8373</th>\n",
       "      <td>552</td>\n",
       "      <td>Male</td>\n",
       "      <td>70.0</td>\n",
       "      <td>0.0</td>\n",
       "      <td>15.0</td>\n",
       "      <td>15.0</td>\n",
       "      <td>0.0</td>\n",
       "      <td>0.0</td>\n",
       "      <td>100.0</td>\n",
       "    </tr>\n",
       "    <tr>\n",
       "      <th>8374</th>\n",
       "      <td>552</td>\n",
       "      <td>Male</td>\n",
       "      <td>70.0</td>\n",
       "      <td>0.0</td>\n",
       "      <td>15.0</td>\n",
       "      <td>15.0</td>\n",
       "      <td>0.0</td>\n",
       "      <td>0.0</td>\n",
       "      <td>100.0</td>\n",
       "    </tr>\n",
       "    <tr>\n",
       "      <th>8375</th>\n",
       "      <td>552</td>\n",
       "      <td>Male</td>\n",
       "      <td>70.0</td>\n",
       "      <td>0.0</td>\n",
       "      <td>15.0</td>\n",
       "      <td>15.0</td>\n",
       "      <td>0.0</td>\n",
       "      <td>0.0</td>\n",
       "      <td>100.0</td>\n",
       "    </tr>\n",
       "    <tr>\n",
       "      <th>8376</th>\n",
       "      <td>552</td>\n",
       "      <td>Male</td>\n",
       "      <td>70.0</td>\n",
       "      <td>0.0</td>\n",
       "      <td>15.0</td>\n",
       "      <td>15.0</td>\n",
       "      <td>0.0</td>\n",
       "      <td>0.0</td>\n",
       "      <td>100.0</td>\n",
       "    </tr>\n",
       "    <tr>\n",
       "      <th>8377</th>\n",
       "      <td>552</td>\n",
       "      <td>Male</td>\n",
       "      <td>70.0</td>\n",
       "      <td>0.0</td>\n",
       "      <td>15.0</td>\n",
       "      <td>15.0</td>\n",
       "      <td>0.0</td>\n",
       "      <td>0.0</td>\n",
       "      <td>100.0</td>\n",
       "    </tr>\n",
       "  </tbody>\n",
       "</table>\n",
       "<p>8299 rows × 9 columns</p>\n",
       "</div>"
      ],
      "text/plain": [
       "       id  gender  attractive  sincere  intelligent   fun  ambitious  \\\n",
       "0       1  Female        15.0     20.0         20.0  15.0       15.0   \n",
       "1       1  Female        15.0     20.0         20.0  15.0       15.0   \n",
       "2       1  Female        15.0     20.0         20.0  15.0       15.0   \n",
       "3       1  Female        15.0     20.0         20.0  15.0       15.0   \n",
       "4       1  Female        15.0     20.0         20.0  15.0       15.0   \n",
       "...   ...     ...         ...      ...          ...   ...        ...   \n",
       "8373  552    Male        70.0      0.0         15.0  15.0        0.0   \n",
       "8374  552    Male        70.0      0.0         15.0  15.0        0.0   \n",
       "8375  552    Male        70.0      0.0         15.0  15.0        0.0   \n",
       "8376  552    Male        70.0      0.0         15.0  15.0        0.0   \n",
       "8377  552    Male        70.0      0.0         15.0  15.0        0.0   \n",
       "\n",
       "      shared_interests    sum  \n",
       "0                 15.0  100.0  \n",
       "1                 15.0  100.0  \n",
       "2                 15.0  100.0  \n",
       "3                 15.0  100.0  \n",
       "4                 15.0  100.0  \n",
       "...                ...    ...  \n",
       "8373               0.0  100.0  \n",
       "8374               0.0  100.0  \n",
       "8375               0.0  100.0  \n",
       "8376               0.0  100.0  \n",
       "8377               0.0  100.0  \n",
       "\n",
       "[8299 rows x 9 columns]"
      ]
     },
     "execution_count": 33,
     "metadata": {},
     "output_type": "execute_result"
    }
   ],
   "source": [
    "#del attributes['sum']\n",
    "attributes"
   ]
  },
  {
   "cell_type": "code",
   "execution_count": 34,
   "metadata": {},
   "outputs": [
    {
     "data": {
      "text/plain": [
       "attractive          22.509522\n",
       "intelligent         20.263096\n",
       "fun                 17.451919\n",
       "sincere             17.387194\n",
       "shared_interests    11.835349\n",
       "ambitious           10.659928\n",
       "dtype: float64"
      ]
     },
     "execution_count": 34,
     "metadata": {},
     "output_type": "execute_result"
    }
   ],
   "source": [
    "attributes.iloc[:,2:8].mean().sort_values(ascending=False)\n",
    "#add a graphic"
   ]
  },
  {
   "cell_type": "code",
   "execution_count": 35,
   "metadata": {},
   "outputs": [
    {
     "data": {
      "text/plain": [
       "array(['Female', 'Male'], dtype=object)"
      ]
     },
     "execution_count": 35,
     "metadata": {},
     "output_type": "execute_result"
    }
   ],
   "source": [
    "attributes['gender'].unique()"
   ]
  },
  {
   "cell_type": "code",
   "execution_count": 36,
   "metadata": {},
   "outputs": [
    {
     "data": {
      "image/png": "[encoded data removed]",
      "text/plain": [
       "<Figure size 432x288 with 1 Axes>"
      ]
     },
     "metadata": {},
     "output_type": "display_data"
    }
   ],
   "source": [
    "# Radar Chart or spider plot\n",
    "\n",
    "# 1) data\n",
    "radar_data = attributes.groupby('gender').mean().iloc[:,1:7]\n",
    "\n",
    "# 2) Number of variables\n",
    "categories = list(radar_data.columns)\n",
    "N = len(categories)\n",
    "\n",
    "# 3) the angle of each axis in the plot? (we divide the plot / number of variable)\n",
    "angles = [n / float(N) * 2 * pi for n in range(N)]\n",
    "angles += angles[:1]\n",
    "\n",
    "# Initialise the spider plot\n",
    "ax = plt.subplot(111, polar=True)\n",
    "\n",
    "# If you want the first axis to be on top:\n",
    "ax.set_theta_offset(pi / 2)\n",
    "ax.set_theta_direction(-1)\n",
    "\n",
    "# Draw one axe per variable + add labels\n",
    "plt.xticks(angles[:-1], categories)\n",
    "\n",
    "# Draw ylabels\n",
    "ax.set_rlabel_position(0)\n",
    "plt.yticks([10,20,30], [\"10\",\"20\",\"30\"], color=\"grey\", size=7)\n",
    "plt.ylim(0,30)\n",
    "\n",
    "# add plots\n",
    "# Female\n",
    "values=radar_data.loc['Female'].values.flatten().tolist()\n",
    "values += values[:1]\n",
    "ax.plot(angles, values, linewidth=1, linestyle='solid', label=\"Female\")\n",
    "ax.fill(angles, values, 'b', alpha=0.1)\n",
    "\n",
    "# Male\n",
    "values=radar_data.loc['Male'].values.flatten().tolist()\n",
    "values += values[:1]\n",
    "ax.plot(angles, values, linewidth=1, linestyle='solid', label=\"Male\")\n",
    "ax.fill(angles, values, 'r', alpha=0.1)\n",
    "\n",
    "# Add legend\n",
    "plt.legend(loc='upper right', bbox_to_anchor=(0.1, 0.1))\n",
    "\n",
    "# Show the graph\n",
    "plt.show()"
   ]
  },
  {
   "cell_type": "markdown",
   "metadata": {},
   "source": [
    "🗒 **OBSERVATION**    \n",
    "There is an obvious difference between what male and female participants are looking for in their partners  \n",
    "•\tFor male participants, attractiveness is given a lot more weight, and the ambitiousness or if they have any shared interset are ranked not as high.  \n",
    "•\tFor females, the points are more evenly distributed across all of the attributes, with intelligence ranked slightly higher compared to others.  \n",
    "•\tThere is no particular difference between male and female participants for some attributes like fun and intelligence"
   ]
  },
  {
   "cell_type": "markdown",
   "metadata": {},
   "source": [
    "## Which of the 6 Attributes Actually Influence Decision Making"
   ]
  },
  {
   "cell_type": "code",
   "execution_count": 37,
   "metadata": {},
   "outputs": [
    {
     "data": {
      "text/plain": [
       "10"
      ]
     },
     "execution_count": 37,
     "metadata": {},
     "output_type": "execute_result"
    }
   ],
   "source": [
    "dataset.isna().sum()['pid']"
   ]
  },
  {
   "cell_type": "code",
   "execution_count": 38,
   "metadata": {},
   "outputs": [
    {
     "data": {
      "text/plain": [
       "(8378, 186)"
      ]
     },
     "execution_count": 38,
     "metadata": {},
     "output_type": "execute_result"
    }
   ],
   "source": [
    "dataset.shape"
   ]
  },
  {
   "cell_type": "code",
   "execution_count": 39,
   "metadata": {},
   "outputs": [
    {
     "data": {
      "text/html": [
       "<div>\n",
       "<style scoped>\n",
       "    .dataframe tbody tr th:only-of-type {\n",
       "        vertical-align: middle;\n",
       "    }\n",
       "\n",
       "    .dataframe tbody tr th {\n",
       "        vertical-align: top;\n",
       "    }\n",
       "\n",
       "    .dataframe thead th {\n",
       "        text-align: right;\n",
       "    }\n",
       "</style>\n",
       "<table border=\"1\" class=\"dataframe\">\n",
       "  <thead>\n",
       "    <tr style=\"text-align: right;\">\n",
       "      <th></th>\n",
       "      <th>id</th>\n",
       "      <th>partner_id</th>\n",
       "      <th>decision</th>\n",
       "      <th>gender</th>\n",
       "      <th>attractive</th>\n",
       "      <th>sincere</th>\n",
       "      <th>intelligent</th>\n",
       "      <th>fun</th>\n",
       "      <th>ambitious</th>\n",
       "      <th>shared_interests</th>\n",
       "      <th>like</th>\n",
       "      <th>probability</th>\n",
       "    </tr>\n",
       "  </thead>\n",
       "  <tbody>\n",
       "    <tr>\n",
       "      <th>0</th>\n",
       "      <td>1</td>\n",
       "      <td>11.0</td>\n",
       "      <td>1</td>\n",
       "      <td>Female</td>\n",
       "      <td>6.0</td>\n",
       "      <td>9.0</td>\n",
       "      <td>7.0</td>\n",
       "      <td>7.0</td>\n",
       "      <td>6.0</td>\n",
       "      <td>5.0</td>\n",
       "      <td>7.0</td>\n",
       "      <td>6.0</td>\n",
       "    </tr>\n",
       "    <tr>\n",
       "      <th>1</th>\n",
       "      <td>1</td>\n",
       "      <td>12.0</td>\n",
       "      <td>1</td>\n",
       "      <td>Female</td>\n",
       "      <td>7.0</td>\n",
       "      <td>8.0</td>\n",
       "      <td>7.0</td>\n",
       "      <td>8.0</td>\n",
       "      <td>5.0</td>\n",
       "      <td>6.0</td>\n",
       "      <td>7.0</td>\n",
       "      <td>5.0</td>\n",
       "    </tr>\n",
       "    <tr>\n",
       "      <th>2</th>\n",
       "      <td>1</td>\n",
       "      <td>13.0</td>\n",
       "      <td>1</td>\n",
       "      <td>Female</td>\n",
       "      <td>5.0</td>\n",
       "      <td>8.0</td>\n",
       "      <td>9.0</td>\n",
       "      <td>8.0</td>\n",
       "      <td>5.0</td>\n",
       "      <td>7.0</td>\n",
       "      <td>7.0</td>\n",
       "      <td>NaN</td>\n",
       "    </tr>\n",
       "    <tr>\n",
       "      <th>3</th>\n",
       "      <td>1</td>\n",
       "      <td>14.0</td>\n",
       "      <td>1</td>\n",
       "      <td>Female</td>\n",
       "      <td>7.0</td>\n",
       "      <td>6.0</td>\n",
       "      <td>8.0</td>\n",
       "      <td>7.0</td>\n",
       "      <td>6.0</td>\n",
       "      <td>8.0</td>\n",
       "      <td>7.0</td>\n",
       "      <td>6.0</td>\n",
       "    </tr>\n",
       "    <tr>\n",
       "      <th>4</th>\n",
       "      <td>1</td>\n",
       "      <td>15.0</td>\n",
       "      <td>1</td>\n",
       "      <td>Female</td>\n",
       "      <td>5.0</td>\n",
       "      <td>6.0</td>\n",
       "      <td>7.0</td>\n",
       "      <td>7.0</td>\n",
       "      <td>6.0</td>\n",
       "      <td>6.0</td>\n",
       "      <td>6.0</td>\n",
       "      <td>6.0</td>\n",
       "    </tr>\n",
       "  </tbody>\n",
       "</table>\n",
       "</div>"
      ],
      "text/plain": [
       "   id  partner_id  decision  gender  attractive  sincere  intelligent  fun  \\\n",
       "0   1        11.0         1  Female         6.0      9.0          7.0  7.0   \n",
       "1   1        12.0         1  Female         7.0      8.0          7.0  8.0   \n",
       "2   1        13.0         1  Female         5.0      8.0          9.0  8.0   \n",
       "3   1        14.0         1  Female         7.0      6.0          8.0  7.0   \n",
       "4   1        15.0         1  Female         5.0      6.0          7.0  7.0   \n",
       "\n",
       "   ambitious  shared_interests  like  probability  \n",
       "0        6.0               5.0   7.0          6.0  \n",
       "1        5.0               6.0   7.0          5.0  \n",
       "2        5.0               7.0   7.0          NaN  \n",
       "3        6.0               8.0   7.0          6.0  \n",
       "4        6.0               6.0   6.0          6.0  "
      ]
     },
     "execution_count": 39,
     "metadata": {},
     "output_type": "execute_result"
    }
   ],
   "source": [
    "mask = pd.isna(dataset['pid'])==False\n",
    "data_ev = dataset.loc[mask][['iid','pid', 'dec', 'gender_str','attr', 'sinc','intel','fun','amb','shar', 'like', 'prob']]\n",
    "data_ev.columns = ['id', 'partner_id', 'decision','gender','attractive', 'sincere','intelligent','fun','ambitious','shared_interests', 'like','probability']\n",
    "data_ev.head()"
   ]
  },
  {
   "cell_type": "code",
   "execution_count": 40,
   "metadata": {},
   "outputs": [],
   "source": [
    "# check for missing values"
   ]
  },
  {
   "cell_type": "code",
   "execution_count": 41,
   "metadata": {},
   "outputs": [
    {
     "data": {
      "text/plain": [
       "0"
      ]
     },
     "execution_count": 41,
     "metadata": {},
     "output_type": "execute_result"
    }
   ],
   "source": [
    "data_ev.isna().sum()['partner_id']"
   ]
  },
  {
   "cell_type": "code",
   "execution_count": 42,
   "metadata": {},
   "outputs": [
    {
     "data": {
      "text/plain": [
       "202"
      ]
     },
     "execution_count": 42,
     "metadata": {},
     "output_type": "execute_result"
    }
   ],
   "source": [
    "data_ev.isna().sum()['attractive']"
   ]
  },
  {
   "cell_type": "code",
   "execution_count": 43,
   "metadata": {},
   "outputs": [
    {
     "data": {
      "text/plain": [
       "array([ 6. ,  7. ,  5. ,  4. ,  8. ,  9. ,  3. , 10. ,  1. ,  nan,  2. ,\n",
       "        0. ,  6.5,  7.5,  9.5,  8.5,  9.9,  3.5])"
      ]
     },
     "execution_count": 43,
     "metadata": {},
     "output_type": "execute_result"
    }
   ],
   "source": [
    "data_ev['attractive'].unique()"
   ]
  },
  {
   "cell_type": "markdown",
   "metadata": {},
   "source": [
    "📝 **Note** \n",
    "the amount of missing data is important, so we cannot do a full na drop, but we will drop only the rows where all attributes are not rated  \n",
    "to do that, we will replace, as a first step, all the na values for the 6 attributes by 1000\n",
    "only rows that add up to 6*1000 will be dropped  \n",
    "second, we will convert back all rates equal to 1000 as na values  "
   ]
  },
  {
   "cell_type": "code",
   "execution_count": 44,
   "metadata": {},
   "outputs": [
    {
     "data": {
      "text/html": [
       "<div>\n",
       "<style scoped>\n",
       "    .dataframe tbody tr th:only-of-type {\n",
       "        vertical-align: middle;\n",
       "    }\n",
       "\n",
       "    .dataframe tbody tr th {\n",
       "        vertical-align: top;\n",
       "    }\n",
       "\n",
       "    .dataframe thead th {\n",
       "        text-align: right;\n",
       "    }\n",
       "</style>\n",
       "<table border=\"1\" class=\"dataframe\">\n",
       "  <thead>\n",
       "    <tr style=\"text-align: right;\">\n",
       "      <th></th>\n",
       "      <th>id</th>\n",
       "      <th>partner_id</th>\n",
       "      <th>decision</th>\n",
       "      <th>gender</th>\n",
       "      <th>attractive</th>\n",
       "      <th>sincere</th>\n",
       "      <th>intelligent</th>\n",
       "      <th>fun</th>\n",
       "      <th>ambitious</th>\n",
       "      <th>shared_interests</th>\n",
       "      <th>like</th>\n",
       "      <th>probability</th>\n",
       "    </tr>\n",
       "  </thead>\n",
       "  <tbody>\n",
       "    <tr>\n",
       "      <th>0</th>\n",
       "      <td>1</td>\n",
       "      <td>11.0</td>\n",
       "      <td>1</td>\n",
       "      <td>Female</td>\n",
       "      <td>6.0</td>\n",
       "      <td>9.0</td>\n",
       "      <td>7.0</td>\n",
       "      <td>7.0</td>\n",
       "      <td>6.0</td>\n",
       "      <td>5.0</td>\n",
       "      <td>7.0</td>\n",
       "      <td>6.0</td>\n",
       "    </tr>\n",
       "    <tr>\n",
       "      <th>1</th>\n",
       "      <td>1</td>\n",
       "      <td>12.0</td>\n",
       "      <td>1</td>\n",
       "      <td>Female</td>\n",
       "      <td>7.0</td>\n",
       "      <td>8.0</td>\n",
       "      <td>7.0</td>\n",
       "      <td>8.0</td>\n",
       "      <td>5.0</td>\n",
       "      <td>6.0</td>\n",
       "      <td>7.0</td>\n",
       "      <td>5.0</td>\n",
       "    </tr>\n",
       "    <tr>\n",
       "      <th>2</th>\n",
       "      <td>1</td>\n",
       "      <td>13.0</td>\n",
       "      <td>1</td>\n",
       "      <td>Female</td>\n",
       "      <td>5.0</td>\n",
       "      <td>8.0</td>\n",
       "      <td>9.0</td>\n",
       "      <td>8.0</td>\n",
       "      <td>5.0</td>\n",
       "      <td>7.0</td>\n",
       "      <td>7.0</td>\n",
       "      <td>NaN</td>\n",
       "    </tr>\n",
       "    <tr>\n",
       "      <th>3</th>\n",
       "      <td>1</td>\n",
       "      <td>14.0</td>\n",
       "      <td>1</td>\n",
       "      <td>Female</td>\n",
       "      <td>7.0</td>\n",
       "      <td>6.0</td>\n",
       "      <td>8.0</td>\n",
       "      <td>7.0</td>\n",
       "      <td>6.0</td>\n",
       "      <td>8.0</td>\n",
       "      <td>7.0</td>\n",
       "      <td>6.0</td>\n",
       "    </tr>\n",
       "    <tr>\n",
       "      <th>4</th>\n",
       "      <td>1</td>\n",
       "      <td>15.0</td>\n",
       "      <td>1</td>\n",
       "      <td>Female</td>\n",
       "      <td>5.0</td>\n",
       "      <td>6.0</td>\n",
       "      <td>7.0</td>\n",
       "      <td>7.0</td>\n",
       "      <td>6.0</td>\n",
       "      <td>6.0</td>\n",
       "      <td>6.0</td>\n",
       "      <td>6.0</td>\n",
       "    </tr>\n",
       "  </tbody>\n",
       "</table>\n",
       "</div>"
      ],
      "text/plain": [
       "   id  partner_id  decision  gender  attractive  sincere  intelligent  fun  \\\n",
       "0   1        11.0         1  Female         6.0      9.0          7.0  7.0   \n",
       "1   1        12.0         1  Female         7.0      8.0          7.0  8.0   \n",
       "2   1        13.0         1  Female         5.0      8.0          9.0  8.0   \n",
       "3   1        14.0         1  Female         7.0      6.0          8.0  7.0   \n",
       "4   1        15.0         1  Female         5.0      6.0          7.0  7.0   \n",
       "\n",
       "   ambitious  shared_interests  like  probability  \n",
       "0        6.0               5.0   7.0          6.0  \n",
       "1        5.0               6.0   7.0          5.0  \n",
       "2        5.0               7.0   7.0          NaN  \n",
       "3        6.0               8.0   7.0          6.0  \n",
       "4        6.0               6.0   6.0          6.0  "
      ]
     },
     "execution_count": 44,
     "metadata": {},
     "output_type": "execute_result"
    }
   ],
   "source": [
    "# replace na values for the 6 attributes by 1000 : fillna / replace\n",
    "data_ev.iloc[:, 4:10]= data_ev.iloc[:, 4:10].fillna(1000.0)\n",
    "data_ev.head()"
   ]
  },
  {
   "cell_type": "code",
   "execution_count": 45,
   "metadata": {},
   "outputs": [
    {
     "data": {
      "text/plain": [
       "192"
      ]
     },
     "execution_count": 45,
     "metadata": {},
     "output_type": "execute_result"
    }
   ],
   "source": [
    "# add a new column to sum up the rates of the different attributes\n",
    "data_ev['sum']= data_ev.iloc[:,4:10].sum(axis=1)\n",
    "data_ev['sum'].value_counts()[6000.0]"
   ]
  },
  {
   "cell_type": "code",
   "execution_count": 46,
   "metadata": {},
   "outputs": [
    {
     "data": {
      "text/plain": [
       "3"
      ]
     },
     "execution_count": 46,
     "metadata": {},
     "output_type": "execute_result"
    }
   ],
   "source": [
    "data_ev['sum'].value_counts()[0.0]"
   ]
  },
  {
   "cell_type": "code",
   "execution_count": 47,
   "metadata": {},
   "outputs": [
    {
     "data": {
      "text/plain": [
       "(8173, 13)"
      ]
     },
     "execution_count": 47,
     "metadata": {},
     "output_type": "execute_result"
    }
   ],
   "source": [
    "# drop rows where all attributes were not rated  (sum == 6000) or sum =0.0 (remember scale in [1,10])\n",
    "index = data_ev[(data_ev['sum'] == 6000.0) | (data_ev['sum'] == 0.0)].index\n",
    "data_ev.drop(index=index, inplace=True, errors='raise')\n",
    "data_ev.shape"
   ]
  },
  {
   "cell_type": "code",
   "execution_count": 48,
   "metadata": {},
   "outputs": [
    {
     "data": {
      "text/html": [
       "<div>\n",
       "<style scoped>\n",
       "    .dataframe tbody tr th:only-of-type {\n",
       "        vertical-align: middle;\n",
       "    }\n",
       "\n",
       "    .dataframe tbody tr th {\n",
       "        vertical-align: top;\n",
       "    }\n",
       "\n",
       "    .dataframe thead th {\n",
       "        text-align: right;\n",
       "    }\n",
       "</style>\n",
       "<table border=\"1\" class=\"dataframe\">\n",
       "  <thead>\n",
       "    <tr style=\"text-align: right;\">\n",
       "      <th></th>\n",
       "      <th>id</th>\n",
       "      <th>partner_id</th>\n",
       "      <th>decision</th>\n",
       "      <th>gender</th>\n",
       "      <th>attractive</th>\n",
       "      <th>sincere</th>\n",
       "      <th>intelligent</th>\n",
       "      <th>fun</th>\n",
       "      <th>ambitious</th>\n",
       "      <th>shared_interests</th>\n",
       "      <th>like</th>\n",
       "      <th>probability</th>\n",
       "      <th>sum</th>\n",
       "    </tr>\n",
       "  </thead>\n",
       "  <tbody>\n",
       "    <tr>\n",
       "      <th>0</th>\n",
       "      <td>1</td>\n",
       "      <td>11.0</td>\n",
       "      <td>1</td>\n",
       "      <td>Female</td>\n",
       "      <td>6.0</td>\n",
       "      <td>9.0</td>\n",
       "      <td>7.0</td>\n",
       "      <td>7.0</td>\n",
       "      <td>6.0</td>\n",
       "      <td>5.0</td>\n",
       "      <td>7.0</td>\n",
       "      <td>6.0</td>\n",
       "      <td>40.0</td>\n",
       "    </tr>\n",
       "    <tr>\n",
       "      <th>1</th>\n",
       "      <td>1</td>\n",
       "      <td>12.0</td>\n",
       "      <td>1</td>\n",
       "      <td>Female</td>\n",
       "      <td>7.0</td>\n",
       "      <td>8.0</td>\n",
       "      <td>7.0</td>\n",
       "      <td>8.0</td>\n",
       "      <td>5.0</td>\n",
       "      <td>6.0</td>\n",
       "      <td>7.0</td>\n",
       "      <td>5.0</td>\n",
       "      <td>41.0</td>\n",
       "    </tr>\n",
       "    <tr>\n",
       "      <th>2</th>\n",
       "      <td>1</td>\n",
       "      <td>13.0</td>\n",
       "      <td>1</td>\n",
       "      <td>Female</td>\n",
       "      <td>5.0</td>\n",
       "      <td>8.0</td>\n",
       "      <td>9.0</td>\n",
       "      <td>8.0</td>\n",
       "      <td>5.0</td>\n",
       "      <td>7.0</td>\n",
       "      <td>7.0</td>\n",
       "      <td>NaN</td>\n",
       "      <td>42.0</td>\n",
       "    </tr>\n",
       "    <tr>\n",
       "      <th>3</th>\n",
       "      <td>1</td>\n",
       "      <td>14.0</td>\n",
       "      <td>1</td>\n",
       "      <td>Female</td>\n",
       "      <td>7.0</td>\n",
       "      <td>6.0</td>\n",
       "      <td>8.0</td>\n",
       "      <td>7.0</td>\n",
       "      <td>6.0</td>\n",
       "      <td>8.0</td>\n",
       "      <td>7.0</td>\n",
       "      <td>6.0</td>\n",
       "      <td>42.0</td>\n",
       "    </tr>\n",
       "    <tr>\n",
       "      <th>4</th>\n",
       "      <td>1</td>\n",
       "      <td>15.0</td>\n",
       "      <td>1</td>\n",
       "      <td>Female</td>\n",
       "      <td>5.0</td>\n",
       "      <td>6.0</td>\n",
       "      <td>7.0</td>\n",
       "      <td>7.0</td>\n",
       "      <td>6.0</td>\n",
       "      <td>6.0</td>\n",
       "      <td>6.0</td>\n",
       "      <td>6.0</td>\n",
       "      <td>37.0</td>\n",
       "    </tr>\n",
       "  </tbody>\n",
       "</table>\n",
       "</div>"
      ],
      "text/plain": [
       "   id  partner_id  decision  gender  attractive  sincere  intelligent  fun  \\\n",
       "0   1        11.0         1  Female         6.0      9.0          7.0  7.0   \n",
       "1   1        12.0         1  Female         7.0      8.0          7.0  8.0   \n",
       "2   1        13.0         1  Female         5.0      8.0          9.0  8.0   \n",
       "3   1        14.0         1  Female         7.0      6.0          8.0  7.0   \n",
       "4   1        15.0         1  Female         5.0      6.0          7.0  7.0   \n",
       "\n",
       "   ambitious  shared_interests  like  probability   sum  \n",
       "0        6.0               5.0   7.0          6.0  40.0  \n",
       "1        5.0               6.0   7.0          5.0  41.0  \n",
       "2        5.0               7.0   7.0          NaN  42.0  \n",
       "3        6.0               8.0   7.0          6.0  42.0  \n",
       "4        6.0               6.0   6.0          6.0  37.0  "
      ]
     },
     "execution_count": 48,
     "metadata": {},
     "output_type": "execute_result"
    }
   ],
   "source": [
    "# convert back 1000 values to na\n",
    "data_ev.iloc[:, 4:10]= data_ev.iloc[:, 4:10].replace(1000.0, np.nan)\n",
    "data_ev.head()"
   ]
  },
  {
   "cell_type": "code",
   "execution_count": 49,
   "metadata": {},
   "outputs": [
    {
     "data": {
      "text/html": [
       "<div>\n",
       "<style scoped>\n",
       "    .dataframe tbody tr th:only-of-type {\n",
       "        vertical-align: middle;\n",
       "    }\n",
       "\n",
       "    .dataframe tbody tr th {\n",
       "        vertical-align: top;\n",
       "    }\n",
       "\n",
       "    .dataframe thead th {\n",
       "        text-align: right;\n",
       "    }\n",
       "</style>\n",
       "<table border=\"1\" class=\"dataframe\">\n",
       "  <thead>\n",
       "    <tr style=\"text-align: right;\">\n",
       "      <th></th>\n",
       "      <th>id</th>\n",
       "      <th>partner_id</th>\n",
       "      <th>decision</th>\n",
       "      <th>gender</th>\n",
       "      <th>attractive</th>\n",
       "      <th>sincere</th>\n",
       "      <th>intelligent</th>\n",
       "      <th>fun</th>\n",
       "      <th>ambitious</th>\n",
       "      <th>shared_interests</th>\n",
       "      <th>like</th>\n",
       "      <th>probability</th>\n",
       "      <th>sum</th>\n",
       "    </tr>\n",
       "  </thead>\n",
       "  <tbody>\n",
       "    <tr>\n",
       "      <th>0</th>\n",
       "      <td>1</td>\n",
       "      <td>11.0</td>\n",
       "      <td>1</td>\n",
       "      <td>Female</td>\n",
       "      <td>6.0</td>\n",
       "      <td>9.0</td>\n",
       "      <td>7.0</td>\n",
       "      <td>7.0</td>\n",
       "      <td>6.0</td>\n",
       "      <td>5.0</td>\n",
       "      <td>7.0</td>\n",
       "      <td>6.0</td>\n",
       "      <td>40.0</td>\n",
       "    </tr>\n",
       "    <tr>\n",
       "      <th>1</th>\n",
       "      <td>1</td>\n",
       "      <td>12.0</td>\n",
       "      <td>1</td>\n",
       "      <td>Female</td>\n",
       "      <td>7.0</td>\n",
       "      <td>8.0</td>\n",
       "      <td>7.0</td>\n",
       "      <td>8.0</td>\n",
       "      <td>5.0</td>\n",
       "      <td>6.0</td>\n",
       "      <td>7.0</td>\n",
       "      <td>5.0</td>\n",
       "      <td>41.0</td>\n",
       "    </tr>\n",
       "    <tr>\n",
       "      <th>2</th>\n",
       "      <td>1</td>\n",
       "      <td>13.0</td>\n",
       "      <td>1</td>\n",
       "      <td>Female</td>\n",
       "      <td>5.0</td>\n",
       "      <td>8.0</td>\n",
       "      <td>9.0</td>\n",
       "      <td>8.0</td>\n",
       "      <td>5.0</td>\n",
       "      <td>7.0</td>\n",
       "      <td>7.0</td>\n",
       "      <td>NaN</td>\n",
       "      <td>42.0</td>\n",
       "    </tr>\n",
       "    <tr>\n",
       "      <th>3</th>\n",
       "      <td>1</td>\n",
       "      <td>14.0</td>\n",
       "      <td>1</td>\n",
       "      <td>Female</td>\n",
       "      <td>7.0</td>\n",
       "      <td>6.0</td>\n",
       "      <td>8.0</td>\n",
       "      <td>7.0</td>\n",
       "      <td>6.0</td>\n",
       "      <td>8.0</td>\n",
       "      <td>7.0</td>\n",
       "      <td>6.0</td>\n",
       "      <td>42.0</td>\n",
       "    </tr>\n",
       "    <tr>\n",
       "      <th>4</th>\n",
       "      <td>1</td>\n",
       "      <td>15.0</td>\n",
       "      <td>1</td>\n",
       "      <td>Female</td>\n",
       "      <td>5.0</td>\n",
       "      <td>6.0</td>\n",
       "      <td>7.0</td>\n",
       "      <td>7.0</td>\n",
       "      <td>6.0</td>\n",
       "      <td>6.0</td>\n",
       "      <td>6.0</td>\n",
       "      <td>6.0</td>\n",
       "      <td>37.0</td>\n",
       "    </tr>\n",
       "    <tr>\n",
       "      <th>...</th>\n",
       "      <td>...</td>\n",
       "      <td>...</td>\n",
       "      <td>...</td>\n",
       "      <td>...</td>\n",
       "      <td>...</td>\n",
       "      <td>...</td>\n",
       "      <td>...</td>\n",
       "      <td>...</td>\n",
       "      <td>...</td>\n",
       "      <td>...</td>\n",
       "      <td>...</td>\n",
       "      <td>...</td>\n",
       "      <td>...</td>\n",
       "    </tr>\n",
       "    <tr>\n",
       "      <th>8373</th>\n",
       "      <td>552</td>\n",
       "      <td>526.0</td>\n",
       "      <td>0</td>\n",
       "      <td>Male</td>\n",
       "      <td>3.0</td>\n",
       "      <td>5.0</td>\n",
       "      <td>5.0</td>\n",
       "      <td>5.0</td>\n",
       "      <td>NaN</td>\n",
       "      <td>NaN</td>\n",
       "      <td>2.0</td>\n",
       "      <td>5.0</td>\n",
       "      <td>18.0</td>\n",
       "    </tr>\n",
       "    <tr>\n",
       "      <th>8374</th>\n",
       "      <td>552</td>\n",
       "      <td>527.0</td>\n",
       "      <td>0</td>\n",
       "      <td>Male</td>\n",
       "      <td>4.0</td>\n",
       "      <td>6.0</td>\n",
       "      <td>8.0</td>\n",
       "      <td>4.0</td>\n",
       "      <td>4.0</td>\n",
       "      <td>NaN</td>\n",
       "      <td>4.0</td>\n",
       "      <td>4.0</td>\n",
       "      <td>26.0</td>\n",
       "    </tr>\n",
       "    <tr>\n",
       "      <th>8375</th>\n",
       "      <td>552</td>\n",
       "      <td>528.0</td>\n",
       "      <td>0</td>\n",
       "      <td>Male</td>\n",
       "      <td>4.0</td>\n",
       "      <td>7.0</td>\n",
       "      <td>8.0</td>\n",
       "      <td>8.0</td>\n",
       "      <td>8.0</td>\n",
       "      <td>NaN</td>\n",
       "      <td>6.0</td>\n",
       "      <td>5.0</td>\n",
       "      <td>35.0</td>\n",
       "    </tr>\n",
       "    <tr>\n",
       "      <th>8376</th>\n",
       "      <td>552</td>\n",
       "      <td>529.0</td>\n",
       "      <td>0</td>\n",
       "      <td>Male</td>\n",
       "      <td>4.0</td>\n",
       "      <td>6.0</td>\n",
       "      <td>5.0</td>\n",
       "      <td>4.0</td>\n",
       "      <td>NaN</td>\n",
       "      <td>5.0</td>\n",
       "      <td>5.0</td>\n",
       "      <td>5.0</td>\n",
       "      <td>24.0</td>\n",
       "    </tr>\n",
       "    <tr>\n",
       "      <th>8377</th>\n",
       "      <td>552</td>\n",
       "      <td>530.0</td>\n",
       "      <td>0</td>\n",
       "      <td>Male</td>\n",
       "      <td>3.0</td>\n",
       "      <td>7.0</td>\n",
       "      <td>6.0</td>\n",
       "      <td>4.0</td>\n",
       "      <td>8.0</td>\n",
       "      <td>1.0</td>\n",
       "      <td>4.0</td>\n",
       "      <td>5.0</td>\n",
       "      <td>29.0</td>\n",
       "    </tr>\n",
       "  </tbody>\n",
       "</table>\n",
       "<p>8173 rows × 13 columns</p>\n",
       "</div>"
      ],
      "text/plain": [
       "       id  partner_id  decision  gender  attractive  sincere  intelligent  \\\n",
       "0       1        11.0         1  Female         6.0      9.0          7.0   \n",
       "1       1        12.0         1  Female         7.0      8.0          7.0   \n",
       "2       1        13.0         1  Female         5.0      8.0          9.0   \n",
       "3       1        14.0         1  Female         7.0      6.0          8.0   \n",
       "4       1        15.0         1  Female         5.0      6.0          7.0   \n",
       "...   ...         ...       ...     ...         ...      ...          ...   \n",
       "8373  552       526.0         0    Male         3.0      5.0          5.0   \n",
       "8374  552       527.0         0    Male         4.0      6.0          8.0   \n",
       "8375  552       528.0         0    Male         4.0      7.0          8.0   \n",
       "8376  552       529.0         0    Male         4.0      6.0          5.0   \n",
       "8377  552       530.0         0    Male         3.0      7.0          6.0   \n",
       "\n",
       "      fun  ambitious  shared_interests  like  probability   sum  \n",
       "0     7.0        6.0               5.0   7.0          6.0  40.0  \n",
       "1     8.0        5.0               6.0   7.0          5.0  41.0  \n",
       "2     8.0        5.0               7.0   7.0          NaN  42.0  \n",
       "3     7.0        6.0               8.0   7.0          6.0  42.0  \n",
       "4     7.0        6.0               6.0   6.0          6.0  37.0  \n",
       "...   ...        ...               ...   ...          ...   ...  \n",
       "8373  5.0        NaN               NaN   2.0          5.0  18.0  \n",
       "8374  4.0        4.0               NaN   4.0          4.0  26.0  \n",
       "8375  8.0        8.0               NaN   6.0          5.0  35.0  \n",
       "8376  4.0        NaN               5.0   5.0          5.0  24.0  \n",
       "8377  4.0        8.0               1.0   4.0          5.0  29.0  \n",
       "\n",
       "[8173 rows x 13 columns]"
      ]
     },
     "execution_count": 49,
     "metadata": {},
     "output_type": "execute_result"
    }
   ],
   "source": [
    "# recompute the sum while skipping nan values\n",
    "data_ev['sum']= data_ev.iloc[:,4:10].sum(axis=1, skipna=True)\n",
    "data_ev"
   ]
  },
  {
   "cell_type": "code",
   "execution_count": 50,
   "metadata": {},
   "outputs": [
    {
     "data": {
      "text/plain": [
       "36.0    404\n",
       "40.0    400\n",
       "41.0    398\n",
       "42.0    389\n",
       "38.0    373\n",
       "Name: sum, dtype: int64"
      ]
     },
     "execution_count": 50,
     "metadata": {},
     "output_type": "execute_result"
    }
   ],
   "source": [
    "data_ev['sum'].value_counts().head()"
   ]
  },
  {
   "cell_type": "code",
   "execution_count": 51,
   "metadata": {},
   "outputs": [],
   "source": [
    "# add partner gender\n",
    "data_ev['partner_gender'] = np.where(data_ev['gender'] == 'Female', 'Male', 'Female')"
   ]
  },
  {
   "cell_type": "code",
   "execution_count": 52,
   "metadata": {},
   "outputs": [
    {
     "data": {
      "text/html": [
       "<div>\n",
       "<style scoped>\n",
       "    .dataframe tbody tr th:only-of-type {\n",
       "        vertical-align: middle;\n",
       "    }\n",
       "\n",
       "    .dataframe tbody tr th {\n",
       "        vertical-align: top;\n",
       "    }\n",
       "\n",
       "    .dataframe thead th {\n",
       "        text-align: right;\n",
       "    }\n",
       "</style>\n",
       "<table border=\"1\" class=\"dataframe\">\n",
       "  <thead>\n",
       "    <tr style=\"text-align: right;\">\n",
       "      <th></th>\n",
       "      <th></th>\n",
       "      <th>decision</th>\n",
       "      <th>attractive</th>\n",
       "      <th>sincere</th>\n",
       "      <th>intelligent</th>\n",
       "      <th>fun</th>\n",
       "      <th>ambitious</th>\n",
       "      <th>shared_interests</th>\n",
       "    </tr>\n",
       "    <tr>\n",
       "      <th>partner_id</th>\n",
       "      <th>partner_gender</th>\n",
       "      <th></th>\n",
       "      <th></th>\n",
       "      <th></th>\n",
       "      <th></th>\n",
       "      <th></th>\n",
       "      <th></th>\n",
       "      <th></th>\n",
       "    </tr>\n",
       "  </thead>\n",
       "  <tbody>\n",
       "    <tr>\n",
       "      <th>1.0</th>\n",
       "      <th>Female</th>\n",
       "      <td>0.5</td>\n",
       "      <td>6.7</td>\n",
       "      <td>7.4</td>\n",
       "      <td>8.0</td>\n",
       "      <td>7.2</td>\n",
       "      <td>8.000000</td>\n",
       "      <td>7.1</td>\n",
       "    </tr>\n",
       "    <tr>\n",
       "      <th>2.0</th>\n",
       "      <th>Female</th>\n",
       "      <td>0.6</td>\n",
       "      <td>7.7</td>\n",
       "      <td>7.1</td>\n",
       "      <td>7.9</td>\n",
       "      <td>7.5</td>\n",
       "      <td>7.500000</td>\n",
       "      <td>6.5</td>\n",
       "    </tr>\n",
       "    <tr>\n",
       "      <th>3.0</th>\n",
       "      <th>Female</th>\n",
       "      <td>0.5</td>\n",
       "      <td>6.5</td>\n",
       "      <td>7.1</td>\n",
       "      <td>7.3</td>\n",
       "      <td>6.2</td>\n",
       "      <td>7.111111</td>\n",
       "      <td>6.0</td>\n",
       "    </tr>\n",
       "    <tr>\n",
       "      <th>4.0</th>\n",
       "      <th>Female</th>\n",
       "      <td>0.6</td>\n",
       "      <td>7.0</td>\n",
       "      <td>7.1</td>\n",
       "      <td>7.7</td>\n",
       "      <td>7.5</td>\n",
       "      <td>7.700000</td>\n",
       "      <td>7.2</td>\n",
       "    </tr>\n",
       "    <tr>\n",
       "      <th>5.0</th>\n",
       "      <th>Female</th>\n",
       "      <td>0.3</td>\n",
       "      <td>5.3</td>\n",
       "      <td>7.7</td>\n",
       "      <td>7.6</td>\n",
       "      <td>7.2</td>\n",
       "      <td>7.800000</td>\n",
       "      <td>6.2</td>\n",
       "    </tr>\n",
       "  </tbody>\n",
       "</table>\n",
       "</div>"
      ],
      "text/plain": [
       "                           decision  attractive  sincere  intelligent  fun  \\\n",
       "partner_id partner_gender                                                    \n",
       "1.0        Female               0.5         6.7      7.4          8.0  7.2   \n",
       "2.0        Female               0.6         7.7      7.1          7.9  7.5   \n",
       "3.0        Female               0.5         6.5      7.1          7.3  6.2   \n",
       "4.0        Female               0.6         7.0      7.1          7.7  7.5   \n",
       "5.0        Female               0.3         5.3      7.7          7.6  7.2   \n",
       "\n",
       "                           ambitious  shared_interests  \n",
       "partner_id partner_gender                               \n",
       "1.0        Female           8.000000               7.1  \n",
       "2.0        Female           7.500000               6.5  \n",
       "3.0        Female           7.111111               6.0  \n",
       "4.0        Female           7.700000               7.2  \n",
       "5.0        Female           7.800000               6.2  "
      ]
     },
     "execution_count": 52,
     "metadata": {},
     "output_type": "execute_result"
    }
   ],
   "source": [
    "graph_data = data_ev.groupby(['partner_id', 'partner_gender']).mean().iloc[:, 1:8]\n",
    "graph_data.head()"
   ]
  },
  {
   "cell_type": "code",
   "execution_count": 53,
   "metadata": {},
   "outputs": [],
   "source": [
    "graph_data_1 = graph_data[graph_data['attractive'].notnull()][['decision', 'attractive']]\n",
    "graph_data_2 = graph_data[graph_data['sincere'].notnull()][['decision', 'sincere']]\n",
    "graph_data_3 = graph_data[graph_data['intelligent'].notnull()][['decision', 'intelligent']]\n",
    "graph_data_4 = graph_data[graph_data['fun'].notnull()][['decision', 'fun']]\n",
    "graph_data_5 = graph_data[graph_data['ambitious'].notnull()][['decision', 'ambitious']]\n",
    "graph_data_6 = graph_data[graph_data['shared_interests'].notnull()][['decision', 'shared_interests']]"
   ]
  },
  {
   "cell_type": "code",
   "execution_count": 54,
   "metadata": {},
   "outputs": [
    {
     "data": {
      "text/html": [
       "<div>\n",
       "<style scoped>\n",
       "    .dataframe tbody tr th:only-of-type {\n",
       "        vertical-align: middle;\n",
       "    }\n",
       "\n",
       "    .dataframe tbody tr th {\n",
       "        vertical-align: top;\n",
       "    }\n",
       "\n",
       "    .dataframe thead th {\n",
       "        text-align: right;\n",
       "    }\n",
       "</style>\n",
       "<table border=\"1\" class=\"dataframe\">\n",
       "  <thead>\n",
       "    <tr style=\"text-align: right;\">\n",
       "      <th></th>\n",
       "      <th></th>\n",
       "      <th>decision</th>\n",
       "      <th>attractive</th>\n",
       "    </tr>\n",
       "    <tr>\n",
       "      <th>partner_id</th>\n",
       "      <th>partner_gender</th>\n",
       "      <th></th>\n",
       "      <th></th>\n",
       "    </tr>\n",
       "  </thead>\n",
       "  <tbody>\n",
       "    <tr>\n",
       "      <th>1.0</th>\n",
       "      <th>Female</th>\n",
       "      <td>0.5</td>\n",
       "      <td>6.7</td>\n",
       "    </tr>\n",
       "    <tr>\n",
       "      <th>2.0</th>\n",
       "      <th>Female</th>\n",
       "      <td>0.6</td>\n",
       "      <td>7.7</td>\n",
       "    </tr>\n",
       "    <tr>\n",
       "      <th>3.0</th>\n",
       "      <th>Female</th>\n",
       "      <td>0.5</td>\n",
       "      <td>6.5</td>\n",
       "    </tr>\n",
       "    <tr>\n",
       "      <th>4.0</th>\n",
       "      <th>Female</th>\n",
       "      <td>0.6</td>\n",
       "      <td>7.0</td>\n",
       "    </tr>\n",
       "    <tr>\n",
       "      <th>5.0</th>\n",
       "      <th>Female</th>\n",
       "      <td>0.3</td>\n",
       "      <td>5.3</td>\n",
       "    </tr>\n",
       "  </tbody>\n",
       "</table>\n",
       "</div>"
      ],
      "text/plain": [
       "                           decision  attractive\n",
       "partner_id partner_gender                      \n",
       "1.0        Female               0.5         6.7\n",
       "2.0        Female               0.6         7.7\n",
       "3.0        Female               0.5         6.5\n",
       "4.0        Female               0.6         7.0\n",
       "5.0        Female               0.3         5.3"
      ]
     },
     "execution_count": 54,
     "metadata": {},
     "output_type": "execute_result"
    }
   ],
   "source": [
    "graph_data_1.head()"
   ]
  },
  {
   "cell_type": "markdown",
   "metadata": {},
   "source": [
    "📝 **Note**   \n",
    "The female subject (partner_id == 1.0) as a partner had 0.5 of yes(s) in average and rated as attractive at 6.7 in average as well (from 1-10)  \n",
    "\n",
    "**are the yes(s) he got related to his attractiveness attribute  Correlation**"
   ]
  },
  {
   "cell_type": "code",
   "execution_count": 55,
   "metadata": {},
   "outputs": [
    {
     "data": {
      "image/png": "[encoded data removed]",
      "text/plain": [
       "<Figure size 1296x720 with 6 Axes>"
      ]
     },
     "metadata": {
      "needs_background": "light"
     },
     "output_type": "display_data"
    }
   ],
   "source": [
    "fig, axes = plt.subplots(2, 3, figsize=(18, 10))\n",
    "\n",
    "fig.suptitle('Influence of Attributes to Decision Making')\n",
    "\n",
    "# list for R_scores\n",
    "l_R=[]\n",
    "#################### attractive\n",
    "sns.regplot(ax=axes[0, 0], data = graph_data_1, x='decision', y='attractive')\n",
    "axes[0, 0].set_xlabel('Positive Response Rate')\n",
    "axes[0, 0].set_ylabel('Attractiveness Score')\n",
    "axes[0, 0].set_ylim(0,10)\n",
    "axes[0, 0].set_yticks([0, 5, 10])\n",
    "axes[0, 0].xaxis.set_major_formatter(tick.PercentFormatter(1.0))\n",
    "#compute  Pearson Product-Moment Correlation Coefficient (R score)\n",
    "r1= round(np.corrcoef(graph_data_1['decision'], graph_data_1['attractive'])[0,1],3)\n",
    "axes[0, 0].text(0.6, 1, f'R = {r1}', fontweight='bold', color='red',fontsize=12)\n",
    "l_R.append(['attractive',r1])\n",
    "\n",
    "#################### sincere\n",
    "sns.regplot(ax=axes[0, 1], data = graph_data_2, x='decision', y='sincere')\n",
    "axes[0, 1].set_xlabel('Positive Response Rate')\n",
    "axes[0, 1].set_ylabel('Sincerity Score')\n",
    "axes[0, 1].set_ylim(0,10)\n",
    "axes[0, 1].set_yticks([0, 5, 10])\n",
    "axes[0, 1].xaxis.set_major_formatter(tick.PercentFormatter(1.0))\n",
    "r2= round(np.corrcoef(graph_data_2['decision'], graph_data_2['sincere'])[0,1],3)\n",
    "axes[0, 1].text(0.6, 1, f'R = {r2}', fontweight='bold', color='red',fontsize=12)\n",
    "l_R.append(['sincere',r2])\n",
    "\n",
    "#################### intelligent\n",
    "sns.regplot(ax=axes[0, 2], data = graph_data_3, x='decision', y='intelligent')\n",
    "axes[0, 2].set_xlabel('Positive Response Rate')\n",
    "axes[0, 2].set_ylabel('Intelligence Score')\n",
    "axes[0, 2].set_ylim(0,10)\n",
    "axes[0, 2].set_yticks([0, 5, 10])\n",
    "axes[0, 2].xaxis.set_major_formatter(tick.PercentFormatter(1.0))\n",
    "r3= round(np.corrcoef(graph_data_3['decision'], graph_data_3['intelligent'])[0,1],3)\n",
    "axes[0, 2].text(0.6, 1, f'R = {r3}', fontweight='bold', color='red',fontsize=12)\n",
    "l_R.append(['intelligent',r3])\n",
    "\n",
    "######################## Fun\n",
    "sns.regplot(ax=axes[1, 0], data = graph_data_4, x='decision', y='fun')\n",
    "axes[1, 0].set_xlabel('Positive Response Rate')\n",
    "axes[1, 0].set_ylabel('Fun Score')\n",
    "axes[1, 0].set_ylim(0,10)\n",
    "axes[1, 0].set_yticks([0, 5, 10])\n",
    "axes[1, 0].xaxis.set_major_formatter(tick.PercentFormatter(1.0))\n",
    "r4= round(np.corrcoef(graph_data_4['decision'], graph_data_4['fun'])[0,1],3)\n",
    "axes[1, 0].text(0.6, 1, f'R = {r4}', fontweight='bold', color='red',fontsize=12)\n",
    "l_R.append(['fun',r4])\n",
    "\n",
    "######################## ambitious\n",
    "sns.regplot(ax=axes[1, 1], data = graph_data_5, x='decision', y='ambitious')\n",
    "axes[1, 1].set_xlabel('Positive Response Rate')\n",
    "axes[1, 1].set_ylabel('Ambitious Score')\n",
    "axes[1, 1].set_ylim(0,10)\n",
    "axes[1, 1].set_yticks([0, 5, 10])\n",
    "axes[1, 1].xaxis.set_major_formatter(tick.PercentFormatter(1.0))\n",
    "r5= round(np.corrcoef(graph_data_5['decision'], graph_data_5['ambitious'])[0,1],3)\n",
    "axes[1, 1].text(0.6, 1, f'R = {r5}', fontweight='bold', color='red',fontsize=12)\n",
    "l_R.append(['ambitious',r5])\n",
    "\n",
    "############### shared interests\n",
    "sns.regplot(ax=axes[1, 2], data = graph_data_6, x='decision', y='shared_interests')\n",
    "axes[1, 2].set_xlabel('Positive Response Rate')\n",
    "axes[1, 2].set_ylabel('Interest Score')\n",
    "axes[1, 2].set_ylim(0,10)\n",
    "axes[1, 2].set_yticks([0, 5, 10])\n",
    "axes[1, 2].xaxis.set_major_formatter(tick.PercentFormatter(1.0))\n",
    "r6= round(np.corrcoef(graph_data_6['decision'], graph_data_6['shared_interests'])[0,1],3)\n",
    "axes[1, 2].text(0.6, 1, f'R = {r6}', fontweight='bold', color='red',fontsize=12)\n",
    "l_R.append(['shared_interests',r6])"
   ]
  },
  {
   "cell_type": "code",
   "execution_count": 56,
   "metadata": {},
   "outputs": [
    {
     "data": {
      "text/plain": [
       "Text(0, 0.5, '')"
      ]
     },
     "execution_count": 56,
     "metadata": {},
     "output_type": "execute_result"
    },
    {
     "data": {
      "image/png": "[encoded data removed]",
      "text/plain": [
       "<Figure size 432x288 with 1 Axes>"
      ]
     },
     "metadata": {
      "needs_background": "light"
     },
     "output_type": "display_data"
    }
   ],
   "source": [
    "df_R = pd.DataFrame(l_R, columns=['attribute', 'R'])\n",
    "ax = sns.barplot(y='attribute', x=\"R\", data=df_R, order = df_R.sort_values('R', ascending = False).attribute)\n",
    "ax.set_ylabel('')"
   ]
  },
  {
   "cell_type": "markdown",
   "metadata": {},
   "source": [
    "🗒 **OBSERVATION**  \n",
    "•\tlooking at the graph and correlation score, the most important attribute is attractiveness of the individual, followed by how fun the individual is and if the two people have any shared interest.  \n",
    "•\tIn contrast, being sincere, being intelligent, and being ambitious would not necessarily get that person a higher positive response rate.   "
   ]
  },
  {
   "cell_type": "code",
   "execution_count": 57,
   "metadata": {},
   "outputs": [],
   "source": [
    "# attractiveness per gender\n",
    "mask = (data_ev['attractive'].notnull()) & (data_ev['partner_gender'] == 'Male')\n",
    "corr_data_1m = data_ev[mask][['partner_id', 'partner_gender', 'decision', 'attractive']]\n",
    "r1m= round(np.corrcoef(corr_data_1m['decision'], corr_data_1m['attractive'])[0,1],3)\n",
    "\n",
    "mask = (data_ev['attractive'].notnull()) & (data_ev['partner_gender'] == 'Female')\n",
    "corr_data_1f = data_ev[mask][['partner_id', 'partner_gender', 'decision', 'attractive']]\n",
    "r1f= round(np.corrcoef(corr_data_1f['decision'], corr_data_1f['attractive'])[0,1],3)\n",
    "r1f\n",
    "\n",
    "# sincere per gender\n",
    "mask = (data_ev['sincere'].notnull()) & (data_ev['partner_gender'] == 'Male')\n",
    "corr_data_1m = data_ev[mask][['partner_id', 'partner_gender', 'decision', 'sincere']]\n",
    "r2m= round(np.corrcoef(corr_data_1m['decision'], corr_data_1m['sincere'])[0,1],3)\n",
    "\n",
    "mask = (data_ev['sincere'].notnull()) & (data_ev['partner_gender'] == 'Female')\n",
    "corr_data_1f = data_ev[mask][['partner_id', 'partner_gender', 'decision', 'sincere']]\n",
    "r2f= round(np.corrcoef(corr_data_1f['decision'], corr_data_1f['sincere'])[0,1],3)\n",
    "\n",
    "# intelligent per gender\n",
    "mask = (data_ev['intelligent'].notnull()) & (data_ev['partner_gender'] == 'Male')\n",
    "corr_data_1m = data_ev[mask][['partner_id', 'partner_gender', 'decision', 'intelligent']]\n",
    "r3m= round(np.corrcoef(corr_data_1m['decision'], corr_data_1m['intelligent'])[0,1],3)\n",
    "\n",
    "mask = (data_ev['intelligent'].notnull()) & (data_ev['partner_gender'] == 'Female')\n",
    "corr_data_1f = data_ev[mask][['partner_id', 'partner_gender', 'decision', 'intelligent']]\n",
    "r3f= round(np.corrcoef(corr_data_1f['decision'], corr_data_1f['intelligent'])[0,1],3)\n",
    "\n",
    "# fun per gender\n",
    "mask = (data_ev['fun'].notnull()) & (data_ev['partner_gender'] == 'Male')\n",
    "corr_data_1m = data_ev[mask][['partner_id', 'partner_gender', 'decision', 'fun']]\n",
    "r4m= round(np.corrcoef(corr_data_1m['decision'], corr_data_1m['fun'])[0,1],3)\n",
    "\n",
    "mask = (data_ev['fun'].notnull()) & (data_ev['partner_gender'] == 'Female')\n",
    "corr_data_1f = data_ev[mask][['partner_id', 'partner_gender', 'decision', 'fun']]\n",
    "r4f= round(np.corrcoef(corr_data_1f['decision'], corr_data_1f['fun'])[0,1],3)\n",
    "\n",
    "# ambitious  per gender\n",
    "mask = (data_ev['ambitious'].notnull()) & (data_ev['partner_gender'] == 'Male')\n",
    "corr_data_1m = data_ev[mask][['partner_id', 'partner_gender', 'decision', 'ambitious']]\n",
    "r5m= round(np.corrcoef(corr_data_1m['decision'], corr_data_1m['ambitious'])[0,1],3)\n",
    "\n",
    "mask = (data_ev['ambitious'].notnull()) & (data_ev['partner_gender'] == 'Female')\n",
    "corr_data_1f = data_ev[mask][['partner_id', 'partner_gender', 'decision', 'ambitious']]\n",
    "r5f= round(np.corrcoef(corr_data_1f['decision'], corr_data_1f['ambitious'])[0,1],3)\n",
    "\n",
    "# shared interests per gender\n",
    "mask = (data_ev['fun'].notnull()) & (data_ev['partner_gender'] == 'Male')\n",
    "corr_data_1m = data_ev[mask][['partner_id', 'partner_gender', 'decision', 'fun']]\n",
    "r6m= round(np.corrcoef(corr_data_1m['decision'], corr_data_1m['fun'])[0,1],3)\n",
    "\n",
    "mask = (data_ev['shared_interests'].notnull()) & (data_ev['partner_gender'] == 'Female')\n",
    "corr_data_1f = data_ev[mask][['partner_id', 'partner_gender', 'decision', 'shared_interests']]\n",
    "r6f= round(np.corrcoef(corr_data_1f['decision'], corr_data_1f['shared_interests'])[0,1],3)\n"
   ]
  },
  {
   "cell_type": "code",
   "execution_count": 58,
   "metadata": {},
   "outputs": [],
   "source": [
    "l =[[r1,r2,r3,r4,r5,r6],[r1m,r2m,r3m,r4m,r5m,r6m],[r1f,r2f,r3f,r4f,r5f,r6f]]"
   ]
  },
  {
   "cell_type": "code",
   "execution_count": 59,
   "metadata": {},
   "outputs": [
    {
     "data": {
      "text/html": [
       "<div>\n",
       "<style scoped>\n",
       "    .dataframe tbody tr th:only-of-type {\n",
       "        vertical-align: middle;\n",
       "    }\n",
       "\n",
       "    .dataframe tbody tr th {\n",
       "        vertical-align: top;\n",
       "    }\n",
       "\n",
       "    .dataframe thead th {\n",
       "        text-align: right;\n",
       "    }\n",
       "</style>\n",
       "<table border=\"1\" class=\"dataframe\">\n",
       "  <thead>\n",
       "    <tr style=\"text-align: right;\">\n",
       "      <th></th>\n",
       "      <th>R_value</th>\n",
       "      <th>Type</th>\n",
       "      <th>Attribute</th>\n",
       "    </tr>\n",
       "  </thead>\n",
       "  <tbody>\n",
       "    <tr>\n",
       "      <th>0</th>\n",
       "      <td>0.799</td>\n",
       "      <td>AVG</td>\n",
       "      <td>attractive</td>\n",
       "    </tr>\n",
       "    <tr>\n",
       "      <th>1</th>\n",
       "      <td>0.247</td>\n",
       "      <td>AVG</td>\n",
       "      <td>sincere</td>\n",
       "    </tr>\n",
       "    <tr>\n",
       "      <th>2</th>\n",
       "      <td>0.263</td>\n",
       "      <td>AVG</td>\n",
       "      <td>intelligent</td>\n",
       "    </tr>\n",
       "    <tr>\n",
       "      <th>3</th>\n",
       "      <td>0.656</td>\n",
       "      <td>AVG</td>\n",
       "      <td>fun</td>\n",
       "    </tr>\n",
       "    <tr>\n",
       "      <th>4</th>\n",
       "      <td>0.289</td>\n",
       "      <td>AVG</td>\n",
       "      <td>ambitious</td>\n",
       "    </tr>\n",
       "  </tbody>\n",
       "</table>\n",
       "</div>"
      ],
      "text/plain": [
       "   R_value Type    Attribute\n",
       "0    0.799  AVG   attractive\n",
       "1    0.247  AVG      sincere\n",
       "2    0.263  AVG  intelligent\n",
       "3    0.656  AVG          fun\n",
       "4    0.289  AVG    ambitious"
      ]
     },
     "execution_count": 59,
     "metadata": {},
     "output_type": "execute_result"
    }
   ],
   "source": [
    "d={'R_value': [r1,r2,r3,r4,r5,r6,r1m,r2m,r3m,r4m,r5m,r6m,r1f,r2f,r3f,r4f,r5f,r6f],\n",
    "   'Type':['AVG','AVG','AVG','AVG','AVG','AVG', 'M','M','M','M','M','M', 'F', 'F', 'F', 'F', 'F', 'F'],\n",
    "   'Attribute':['attractive', 'sincere', 'intelligent', 'fun', 'ambitious', 'shared_interests','attractive', 'sincere', 'intelligent', 'fun', 'ambitious', 'shared_interests','attractive', 'sincere', 'intelligent', 'fun', 'ambitious', 'shared_interests']    \n",
    "}\n",
    "\n",
    "corr_graph = pd.DataFrame(d)\n",
    "corr_graph.head()"
   ]
  },
  {
   "cell_type": "code",
   "execution_count": 60,
   "metadata": {},
   "outputs": [
    {
     "data": {
      "image/png": "[encoded data removed]",
      "text/plain": [
       "<Figure size 720x360 with 6 Axes>"
      ]
     },
     "metadata": {
      "needs_background": "light"
     },
     "output_type": "display_data"
    }
   ],
   "source": [
    "fg=sns.catplot(x=\"Type\", y=\"R_value\", kind=\"bar\", data=corr_graph, col = 'Attribute',  col_wrap=3)\n",
    "size = fg.fig.get_size_inches()\n",
    "fg.fig.set_size_inches(10, 5)"
   ]
  },
  {
   "cell_type": "markdown",
   "metadata": {},
   "source": [
    "🗒 **OBSERVATION**  \n",
    "•\tAn attractive female would win more positive responses compared to an attractive male , that confirms that man do really care about attractiveness  \n",
    "•\tA sincere male would win slightly more positive responses compared to a sincere female. Women care more for sincerity  \n",
    "•\tAn intelligent male would win more positive responses compared to an intelligent female.  \n",
    "•\tNo significant difference between male and female on fun attribute.  \n",
    "•\tAn ambitious female is highly desirable by males  \n",
    "•\tFemales are more likely to give out a positive Reponses if the male has shared interest with her. In contrast, males are not so likely to give out a positive response even if the female has shared interest with him."
   ]
  },
  {
   "cell_type": "markdown",
   "metadata": {},
   "source": [
    "# Conclusion  \n",
    ">Intresting insights have been shown in this analysis. First, we have shown how different attributes influence getting the approval of others. After that, we have shown the behaviour difference between males and females for decision making.  \n",
    "\n",
    ">Finally, many other questions can be raised:\n",
    ">> could sharing same race or religion or even growing up in the same neighbourhood influence the chance to get another date  \n",
    "could being in the same field or sharing the same interests increase the likelihood of getting an approval  \n",
    "could being shy or sociable have an impact on getting along with others"
   ]
  },
  {
   "cell_type": "markdown",
   "metadata": {},
   "source": [
    "📝 THIS IS A PROJECT TO BE TRAINED ON PYTHON LIBRARIES "
   ]
  }
 ],
 "metadata": {
  "kernelspec": {
   "display_name": "Python 3",
   "language": "python",
   "name": "python3"
  },
  "language_info": {
   "codemirror_mode": {
    "name": "ipython",
    "version": 3
   },
   "file_extension": ".py",
   "mimetype": "text/x-python",
   "name": "python",
   "nbconvert_exporter": "python",
   "pygments_lexer": "ipython3",
   "version": "3.8.6"
  }
 },
 "nbformat": 4,
 "nbformat_minor": 4
}
